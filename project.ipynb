{
 "cells": [
  {
   "cell_type": "markdown",
   "metadata": {},
   "source": [
    "**Binary Prediction of Poisonous Mushrooms**\n"
   ]
  },
  {
   "cell_type": "markdown",
   "metadata": {},
   "source": [
    "Your Goal: The goal of this competition is to predict whether a mushroom is edible or poisonous based on its physical characteristics."
   ]
  },
  {
   "cell_type": "code",
   "execution_count": 1,
   "metadata": {},
   "outputs": [],
   "source": [
    "# id: A unique identifier for each mushroom sample.\n",
    "# class: The target variable indicating whether the mushroom is edible (e) or poisonous (p).\n",
    "# cap-diameter: Numerical feature representing the diameter of the mushroom cap.\n",
    "# cap-shape: Categorical feature describing the shape of the mushroom cap.\n",
    "# cap-surface: Categorical feature describing the surface texture of the mushroom cap.\n",
    "# cap-color: Categorical feature describing the color of the mushroom cap.\n",
    "# does-bruise-or-bleed: Categorical feature indicating whether the mushroom bruises or bleeds when handled.\n",
    "# gill-attachment: Categorical feature describing how the gills are attached to the mushroom stem.\n",
    "# gill-spacing: Categorical feature describing the spacing of the gills.\n",
    "# gill-color: Categorical feature describing the color of the gills.\n",
    "# stem-height: Numerical feature representing the height of the mushroom stem.\n",
    "# stem-width: Numerical feature representing the width of the mushroom stem.\n",
    "# stem-root: Categorical feature describing the root type of the stem.\n",
    "# stem-surface: Categorical feature describing the surface texture of the stem.\n",
    "# stem-color: Categorical feature describing the color of the stem.\n",
    "# veil-type: Categorical feature describing the type of veil covering the mushroom.\n",
    "# veil-color: Categorical feature describing the color of the veil.\n",
    "# has-ring: Categorical feature indicating whether the mushroom has a ring on the stem.\n",
    "# ring-type: Categorical feature describing the type of ring on the stem.\n",
    "# spore-print-color: Categorical feature describing the color of the spore print.\n",
    "# habitat: Categorical feature describing the type of environment where the mushroom is typically found.\n",
    "# season: Categorical feature indicating the season during which the mushroom is found."
   ]
  },
  {
   "cell_type": "markdown",
   "metadata": {},
   "source": [
    "Import Necessary Libraries"
   ]
  },
  {
   "cell_type": "code",
   "execution_count": 2,
   "metadata": {},
   "outputs": [],
   "source": [
    "import pandas as pd\n",
    "import numpy as np\n",
    "import seaborn as sns\n",
    "import matplotlib.pyplot as plt\n",
    "from sklearn.model_selection import train_test_split, GridSearchCV\n",
    "from sklearn.preprocessing import LabelEncoder, StandardScaler,OneHotEncoder\n",
    "from sklearn.ensemble import RandomForestClassifier,StackingClassifier\n",
    "from sklearn.metrics import classification_report, confusion_matrix, accuracy_score,matthews_corrcoef\n",
    "from sklearn.linear_model import LogisticRegression\n",
    "from sklearn.ensemble import RandomForestClassifier, GradientBoostingClassifier\n",
    "from sklearn.svm import SVC\n",
    "from sklearn.neighbors import KNeighborsClassifier\n",
    "from sklearn.pipeline import Pipeline\n",
    "from sklearn.compose import ColumnTransformer\n"
   ]
  },
  {
   "cell_type": "markdown",
   "metadata": {},
   "source": [
    "**Understanding the Data**\n"
   ]
  },
  {
   "cell_type": "code",
   "execution_count": 3,
   "metadata": {},
   "outputs": [],
   "source": [
    "sam_data = pd.read_csv('sample_submission.csv')\n",
    "test_data = pd.read_csv('test.csv')\n",
    "train_data = pd.read_csv('train.csv')"
   ]
  },
  {
   "cell_type": "code",
   "execution_count": 4,
   "metadata": {},
   "outputs": [
    {
     "data": {
      "text/html": [
       "<div>\n",
       "<style scoped>\n",
       "    .dataframe tbody tr th:only-of-type {\n",
       "        vertical-align: middle;\n",
       "    }\n",
       "\n",
       "    .dataframe tbody tr th {\n",
       "        vertical-align: top;\n",
       "    }\n",
       "\n",
       "    .dataframe thead th {\n",
       "        text-align: right;\n",
       "    }\n",
       "</style>\n",
       "<table border=\"1\" class=\"dataframe\">\n",
       "  <thead>\n",
       "    <tr style=\"text-align: right;\">\n",
       "      <th></th>\n",
       "      <th>id</th>\n",
       "      <th>class</th>\n",
       "    </tr>\n",
       "  </thead>\n",
       "  <tbody>\n",
       "    <tr>\n",
       "      <th>0</th>\n",
       "      <td>3116945</td>\n",
       "      <td>e</td>\n",
       "    </tr>\n",
       "    <tr>\n",
       "      <th>1</th>\n",
       "      <td>3116946</td>\n",
       "      <td>e</td>\n",
       "    </tr>\n",
       "    <tr>\n",
       "      <th>2</th>\n",
       "      <td>3116947</td>\n",
       "      <td>e</td>\n",
       "    </tr>\n",
       "    <tr>\n",
       "      <th>3</th>\n",
       "      <td>3116948</td>\n",
       "      <td>e</td>\n",
       "    </tr>\n",
       "    <tr>\n",
       "      <th>4</th>\n",
       "      <td>3116949</td>\n",
       "      <td>e</td>\n",
       "    </tr>\n",
       "  </tbody>\n",
       "</table>\n",
       "</div>"
      ],
      "text/plain": [
       "        id class\n",
       "0  3116945     e\n",
       "1  3116946     e\n",
       "2  3116947     e\n",
       "3  3116948     e\n",
       "4  3116949     e"
      ]
     },
     "execution_count": 4,
     "metadata": {},
     "output_type": "execute_result"
    }
   ],
   "source": [
    "sam_data.head()"
   ]
  },
  {
   "cell_type": "code",
   "execution_count": 5,
   "metadata": {},
   "outputs": [
    {
     "data": {
      "text/html": [
       "<div>\n",
       "<style scoped>\n",
       "    .dataframe tbody tr th:only-of-type {\n",
       "        vertical-align: middle;\n",
       "    }\n",
       "\n",
       "    .dataframe tbody tr th {\n",
       "        vertical-align: top;\n",
       "    }\n",
       "\n",
       "    .dataframe thead th {\n",
       "        text-align: right;\n",
       "    }\n",
       "</style>\n",
       "<table border=\"1\" class=\"dataframe\">\n",
       "  <thead>\n",
       "    <tr style=\"text-align: right;\">\n",
       "      <th></th>\n",
       "      <th>id</th>\n",
       "      <th>cap-diameter</th>\n",
       "      <th>cap-shape</th>\n",
       "      <th>cap-surface</th>\n",
       "      <th>cap-color</th>\n",
       "      <th>does-bruise-or-bleed</th>\n",
       "      <th>gill-attachment</th>\n",
       "      <th>gill-spacing</th>\n",
       "      <th>gill-color</th>\n",
       "      <th>stem-height</th>\n",
       "      <th>...</th>\n",
       "      <th>stem-root</th>\n",
       "      <th>stem-surface</th>\n",
       "      <th>stem-color</th>\n",
       "      <th>veil-type</th>\n",
       "      <th>veil-color</th>\n",
       "      <th>has-ring</th>\n",
       "      <th>ring-type</th>\n",
       "      <th>spore-print-color</th>\n",
       "      <th>habitat</th>\n",
       "      <th>season</th>\n",
       "    </tr>\n",
       "  </thead>\n",
       "  <tbody>\n",
       "    <tr>\n",
       "      <th>0</th>\n",
       "      <td>3116945</td>\n",
       "      <td>8.64</td>\n",
       "      <td>x</td>\n",
       "      <td>NaN</td>\n",
       "      <td>n</td>\n",
       "      <td>t</td>\n",
       "      <td>NaN</td>\n",
       "      <td>NaN</td>\n",
       "      <td>w</td>\n",
       "      <td>11.13</td>\n",
       "      <td>...</td>\n",
       "      <td>b</td>\n",
       "      <td>NaN</td>\n",
       "      <td>w</td>\n",
       "      <td>u</td>\n",
       "      <td>w</td>\n",
       "      <td>t</td>\n",
       "      <td>g</td>\n",
       "      <td>NaN</td>\n",
       "      <td>d</td>\n",
       "      <td>a</td>\n",
       "    </tr>\n",
       "    <tr>\n",
       "      <th>1</th>\n",
       "      <td>3116946</td>\n",
       "      <td>6.90</td>\n",
       "      <td>o</td>\n",
       "      <td>t</td>\n",
       "      <td>o</td>\n",
       "      <td>f</td>\n",
       "      <td>NaN</td>\n",
       "      <td>c</td>\n",
       "      <td>y</td>\n",
       "      <td>1.27</td>\n",
       "      <td>...</td>\n",
       "      <td>NaN</td>\n",
       "      <td>NaN</td>\n",
       "      <td>n</td>\n",
       "      <td>NaN</td>\n",
       "      <td>NaN</td>\n",
       "      <td>f</td>\n",
       "      <td>f</td>\n",
       "      <td>NaN</td>\n",
       "      <td>d</td>\n",
       "      <td>a</td>\n",
       "    </tr>\n",
       "    <tr>\n",
       "      <th>2</th>\n",
       "      <td>3116947</td>\n",
       "      <td>2.00</td>\n",
       "      <td>b</td>\n",
       "      <td>g</td>\n",
       "      <td>n</td>\n",
       "      <td>f</td>\n",
       "      <td>NaN</td>\n",
       "      <td>c</td>\n",
       "      <td>n</td>\n",
       "      <td>6.18</td>\n",
       "      <td>...</td>\n",
       "      <td>NaN</td>\n",
       "      <td>NaN</td>\n",
       "      <td>n</td>\n",
       "      <td>NaN</td>\n",
       "      <td>NaN</td>\n",
       "      <td>f</td>\n",
       "      <td>f</td>\n",
       "      <td>NaN</td>\n",
       "      <td>d</td>\n",
       "      <td>s</td>\n",
       "    </tr>\n",
       "    <tr>\n",
       "      <th>3</th>\n",
       "      <td>3116948</td>\n",
       "      <td>3.47</td>\n",
       "      <td>x</td>\n",
       "      <td>t</td>\n",
       "      <td>n</td>\n",
       "      <td>f</td>\n",
       "      <td>s</td>\n",
       "      <td>c</td>\n",
       "      <td>n</td>\n",
       "      <td>4.98</td>\n",
       "      <td>...</td>\n",
       "      <td>NaN</td>\n",
       "      <td>NaN</td>\n",
       "      <td>w</td>\n",
       "      <td>NaN</td>\n",
       "      <td>n</td>\n",
       "      <td>t</td>\n",
       "      <td>z</td>\n",
       "      <td>NaN</td>\n",
       "      <td>d</td>\n",
       "      <td>u</td>\n",
       "    </tr>\n",
       "    <tr>\n",
       "      <th>4</th>\n",
       "      <td>3116949</td>\n",
       "      <td>6.17</td>\n",
       "      <td>x</td>\n",
       "      <td>h</td>\n",
       "      <td>y</td>\n",
       "      <td>f</td>\n",
       "      <td>p</td>\n",
       "      <td>NaN</td>\n",
       "      <td>y</td>\n",
       "      <td>6.73</td>\n",
       "      <td>...</td>\n",
       "      <td>NaN</td>\n",
       "      <td>NaN</td>\n",
       "      <td>y</td>\n",
       "      <td>NaN</td>\n",
       "      <td>y</td>\n",
       "      <td>t</td>\n",
       "      <td>NaN</td>\n",
       "      <td>NaN</td>\n",
       "      <td>d</td>\n",
       "      <td>u</td>\n",
       "    </tr>\n",
       "  </tbody>\n",
       "</table>\n",
       "<p>5 rows × 21 columns</p>\n",
       "</div>"
      ],
      "text/plain": [
       "        id  cap-diameter cap-shape cap-surface cap-color does-bruise-or-bleed  \\\n",
       "0  3116945          8.64         x         NaN         n                    t   \n",
       "1  3116946          6.90         o           t         o                    f   \n",
       "2  3116947          2.00         b           g         n                    f   \n",
       "3  3116948          3.47         x           t         n                    f   \n",
       "4  3116949          6.17         x           h         y                    f   \n",
       "\n",
       "  gill-attachment gill-spacing gill-color  stem-height  ...  stem-root  \\\n",
       "0             NaN          NaN          w        11.13  ...          b   \n",
       "1             NaN            c          y         1.27  ...        NaN   \n",
       "2             NaN            c          n         6.18  ...        NaN   \n",
       "3               s            c          n         4.98  ...        NaN   \n",
       "4               p          NaN          y         6.73  ...        NaN   \n",
       "\n",
       "  stem-surface stem-color veil-type veil-color has-ring ring-type  \\\n",
       "0          NaN          w         u          w        t         g   \n",
       "1          NaN          n       NaN        NaN        f         f   \n",
       "2          NaN          n       NaN        NaN        f         f   \n",
       "3          NaN          w       NaN          n        t         z   \n",
       "4          NaN          y       NaN          y        t       NaN   \n",
       "\n",
       "  spore-print-color habitat season  \n",
       "0               NaN       d      a  \n",
       "1               NaN       d      a  \n",
       "2               NaN       d      s  \n",
       "3               NaN       d      u  \n",
       "4               NaN       d      u  \n",
       "\n",
       "[5 rows x 21 columns]"
      ]
     },
     "execution_count": 5,
     "metadata": {},
     "output_type": "execute_result"
    }
   ],
   "source": [
    "test_data.head()"
   ]
  },
  {
   "cell_type": "code",
   "execution_count": 6,
   "metadata": {},
   "outputs": [
    {
     "data": {
      "text/plain": [
       "(2077964, 21)"
      ]
     },
     "execution_count": 6,
     "metadata": {},
     "output_type": "execute_result"
    }
   ],
   "source": [
    "test_data.shape"
   ]
  },
  {
   "cell_type": "code",
   "execution_count": 7,
   "metadata": {},
   "outputs": [
    {
     "data": {
      "text/html": [
       "<div>\n",
       "<style scoped>\n",
       "    .dataframe tbody tr th:only-of-type {\n",
       "        vertical-align: middle;\n",
       "    }\n",
       "\n",
       "    .dataframe tbody tr th {\n",
       "        vertical-align: top;\n",
       "    }\n",
       "\n",
       "    .dataframe thead th {\n",
       "        text-align: right;\n",
       "    }\n",
       "</style>\n",
       "<table border=\"1\" class=\"dataframe\">\n",
       "  <thead>\n",
       "    <tr style=\"text-align: right;\">\n",
       "      <th></th>\n",
       "      <th>id</th>\n",
       "      <th>class</th>\n",
       "      <th>cap-diameter</th>\n",
       "      <th>cap-shape</th>\n",
       "      <th>cap-surface</th>\n",
       "      <th>cap-color</th>\n",
       "      <th>does-bruise-or-bleed</th>\n",
       "      <th>gill-attachment</th>\n",
       "      <th>gill-spacing</th>\n",
       "      <th>gill-color</th>\n",
       "      <th>...</th>\n",
       "      <th>stem-root</th>\n",
       "      <th>stem-surface</th>\n",
       "      <th>stem-color</th>\n",
       "      <th>veil-type</th>\n",
       "      <th>veil-color</th>\n",
       "      <th>has-ring</th>\n",
       "      <th>ring-type</th>\n",
       "      <th>spore-print-color</th>\n",
       "      <th>habitat</th>\n",
       "      <th>season</th>\n",
       "    </tr>\n",
       "  </thead>\n",
       "  <tbody>\n",
       "    <tr>\n",
       "      <th>0</th>\n",
       "      <td>0</td>\n",
       "      <td>e</td>\n",
       "      <td>8.80</td>\n",
       "      <td>f</td>\n",
       "      <td>s</td>\n",
       "      <td>u</td>\n",
       "      <td>f</td>\n",
       "      <td>a</td>\n",
       "      <td>c</td>\n",
       "      <td>w</td>\n",
       "      <td>...</td>\n",
       "      <td>NaN</td>\n",
       "      <td>NaN</td>\n",
       "      <td>w</td>\n",
       "      <td>NaN</td>\n",
       "      <td>NaN</td>\n",
       "      <td>f</td>\n",
       "      <td>f</td>\n",
       "      <td>NaN</td>\n",
       "      <td>d</td>\n",
       "      <td>a</td>\n",
       "    </tr>\n",
       "    <tr>\n",
       "      <th>1</th>\n",
       "      <td>1</td>\n",
       "      <td>p</td>\n",
       "      <td>4.51</td>\n",
       "      <td>x</td>\n",
       "      <td>h</td>\n",
       "      <td>o</td>\n",
       "      <td>f</td>\n",
       "      <td>a</td>\n",
       "      <td>c</td>\n",
       "      <td>n</td>\n",
       "      <td>...</td>\n",
       "      <td>NaN</td>\n",
       "      <td>y</td>\n",
       "      <td>o</td>\n",
       "      <td>NaN</td>\n",
       "      <td>NaN</td>\n",
       "      <td>t</td>\n",
       "      <td>z</td>\n",
       "      <td>NaN</td>\n",
       "      <td>d</td>\n",
       "      <td>w</td>\n",
       "    </tr>\n",
       "    <tr>\n",
       "      <th>2</th>\n",
       "      <td>2</td>\n",
       "      <td>e</td>\n",
       "      <td>6.94</td>\n",
       "      <td>f</td>\n",
       "      <td>s</td>\n",
       "      <td>b</td>\n",
       "      <td>f</td>\n",
       "      <td>x</td>\n",
       "      <td>c</td>\n",
       "      <td>w</td>\n",
       "      <td>...</td>\n",
       "      <td>NaN</td>\n",
       "      <td>s</td>\n",
       "      <td>n</td>\n",
       "      <td>NaN</td>\n",
       "      <td>NaN</td>\n",
       "      <td>f</td>\n",
       "      <td>f</td>\n",
       "      <td>NaN</td>\n",
       "      <td>l</td>\n",
       "      <td>w</td>\n",
       "    </tr>\n",
       "    <tr>\n",
       "      <th>3</th>\n",
       "      <td>3</td>\n",
       "      <td>e</td>\n",
       "      <td>3.88</td>\n",
       "      <td>f</td>\n",
       "      <td>y</td>\n",
       "      <td>g</td>\n",
       "      <td>f</td>\n",
       "      <td>s</td>\n",
       "      <td>NaN</td>\n",
       "      <td>g</td>\n",
       "      <td>...</td>\n",
       "      <td>NaN</td>\n",
       "      <td>NaN</td>\n",
       "      <td>w</td>\n",
       "      <td>NaN</td>\n",
       "      <td>NaN</td>\n",
       "      <td>f</td>\n",
       "      <td>f</td>\n",
       "      <td>NaN</td>\n",
       "      <td>d</td>\n",
       "      <td>u</td>\n",
       "    </tr>\n",
       "    <tr>\n",
       "      <th>4</th>\n",
       "      <td>4</td>\n",
       "      <td>e</td>\n",
       "      <td>5.85</td>\n",
       "      <td>x</td>\n",
       "      <td>l</td>\n",
       "      <td>w</td>\n",
       "      <td>f</td>\n",
       "      <td>d</td>\n",
       "      <td>NaN</td>\n",
       "      <td>w</td>\n",
       "      <td>...</td>\n",
       "      <td>NaN</td>\n",
       "      <td>NaN</td>\n",
       "      <td>w</td>\n",
       "      <td>NaN</td>\n",
       "      <td>NaN</td>\n",
       "      <td>f</td>\n",
       "      <td>f</td>\n",
       "      <td>NaN</td>\n",
       "      <td>g</td>\n",
       "      <td>a</td>\n",
       "    </tr>\n",
       "  </tbody>\n",
       "</table>\n",
       "<p>5 rows × 22 columns</p>\n",
       "</div>"
      ],
      "text/plain": [
       "   id class  cap-diameter cap-shape cap-surface cap-color  \\\n",
       "0   0     e          8.80         f           s         u   \n",
       "1   1     p          4.51         x           h         o   \n",
       "2   2     e          6.94         f           s         b   \n",
       "3   3     e          3.88         f           y         g   \n",
       "4   4     e          5.85         x           l         w   \n",
       "\n",
       "  does-bruise-or-bleed gill-attachment gill-spacing gill-color  ...  \\\n",
       "0                    f               a            c          w  ...   \n",
       "1                    f               a            c          n  ...   \n",
       "2                    f               x            c          w  ...   \n",
       "3                    f               s          NaN          g  ...   \n",
       "4                    f               d          NaN          w  ...   \n",
       "\n",
       "   stem-root  stem-surface stem-color veil-type veil-color has-ring ring-type  \\\n",
       "0        NaN           NaN          w       NaN        NaN        f         f   \n",
       "1        NaN             y          o       NaN        NaN        t         z   \n",
       "2        NaN             s          n       NaN        NaN        f         f   \n",
       "3        NaN           NaN          w       NaN        NaN        f         f   \n",
       "4        NaN           NaN          w       NaN        NaN        f         f   \n",
       "\n",
       "  spore-print-color habitat season  \n",
       "0               NaN       d      a  \n",
       "1               NaN       d      w  \n",
       "2               NaN       l      w  \n",
       "3               NaN       d      u  \n",
       "4               NaN       g      a  \n",
       "\n",
       "[5 rows x 22 columns]"
      ]
     },
     "execution_count": 7,
     "metadata": {},
     "output_type": "execute_result"
    }
   ],
   "source": [
    "train_data.head()"
   ]
  },
  {
   "cell_type": "code",
   "execution_count": 8,
   "metadata": {},
   "outputs": [
    {
     "data": {
      "text/plain": [
       "(3116945, 22)"
      ]
     },
     "execution_count": 8,
     "metadata": {},
     "output_type": "execute_result"
    }
   ],
   "source": [
    "train_data.shape"
   ]
  },
  {
   "cell_type": "markdown",
   "metadata": {},
   "source": [
    "**Exploratory Data Analysis (EDA)**\n"
   ]
  },
  {
   "cell_type": "code",
   "execution_count": 9,
   "metadata": {},
   "outputs": [
    {
     "name": "stdout",
     "output_type": "stream",
     "text": [
      "<class 'pandas.core.frame.DataFrame'>\n",
      "RangeIndex: 3116945 entries, 0 to 3116944\n",
      "Data columns (total 22 columns):\n",
      " #   Column                Dtype  \n",
      "---  ------                -----  \n",
      " 0   id                    int64  \n",
      " 1   class                 object \n",
      " 2   cap-diameter          float64\n",
      " 3   cap-shape             object \n",
      " 4   cap-surface           object \n",
      " 5   cap-color             object \n",
      " 6   does-bruise-or-bleed  object \n",
      " 7   gill-attachment       object \n",
      " 8   gill-spacing          object \n",
      " 9   gill-color            object \n",
      " 10  stem-height           float64\n",
      " 11  stem-width            float64\n",
      " 12  stem-root             object \n",
      " 13  stem-surface          object \n",
      " 14  stem-color            object \n",
      " 15  veil-type             object \n",
      " 16  veil-color            object \n",
      " 17  has-ring              object \n",
      " 18  ring-type             object \n",
      " 19  spore-print-color     object \n",
      " 20  habitat               object \n",
      " 21  season                object \n",
      "dtypes: float64(3), int64(1), object(18)\n",
      "memory usage: 523.2+ MB\n"
     ]
    }
   ],
   "source": [
    "train_data.info()"
   ]
  },
  {
   "cell_type": "code",
   "execution_count": 10,
   "metadata": {},
   "outputs": [
    {
     "data": {
      "text/plain": [
       "0"
      ]
     },
     "execution_count": 10,
     "metadata": {},
     "output_type": "execute_result"
    }
   ],
   "source": [
    "# chech duplicate value\n",
    "train_data.duplicated().sum()"
   ]
  },
  {
   "cell_type": "code",
   "execution_count": 11,
   "metadata": {},
   "outputs": [],
   "source": [
    "# drop duplicate values\n",
    "train_data.drop_duplicates(inplace=True)\n"
   ]
  },
  {
   "cell_type": "code",
   "execution_count": 12,
   "metadata": {},
   "outputs": [
    {
     "data": {
      "text/plain": [
       "id                            0\n",
       "class                         0\n",
       "cap-diameter                  4\n",
       "cap-shape                    40\n",
       "cap-surface              671023\n",
       "cap-color                    12\n",
       "does-bruise-or-bleed          8\n",
       "gill-attachment          523936\n",
       "gill-spacing            1258435\n",
       "gill-color                   57\n",
       "stem-height                   0\n",
       "stem-width                    0\n",
       "stem-root               2757023\n",
       "stem-surface            1980861\n",
       "stem-color                   38\n",
       "veil-type               2957493\n",
       "veil-color              2740947\n",
       "has-ring                     24\n",
       "ring-type                128880\n",
       "spore-print-color       2849682\n",
       "habitat                      45\n",
       "season                        0\n",
       "dtype: int64"
      ]
     },
     "execution_count": 12,
     "metadata": {},
     "output_type": "execute_result"
    }
   ],
   "source": [
    "# check null values\n",
    "train_data.isnull().sum()"
   ]
  },
  {
   "cell_type": "code",
   "execution_count": 13,
   "metadata": {},
   "outputs": [
    {
     "data": {
      "text/plain": [
       "id                            0\n",
       "cap-diameter                  7\n",
       "cap-shape                    31\n",
       "cap-surface              446904\n",
       "cap-color                    13\n",
       "does-bruise-or-bleed         10\n",
       "gill-attachment          349821\n",
       "gill-spacing             839595\n",
       "gill-color                   49\n",
       "stem-height                   1\n",
       "stem-width                    0\n",
       "stem-root               1838012\n",
       "stem-surface            1321488\n",
       "stem-color                   21\n",
       "veil-type               1971545\n",
       "veil-color              1826124\n",
       "has-ring                     19\n",
       "ring-type                 86195\n",
       "spore-print-color       1899617\n",
       "habitat                      25\n",
       "season                        0\n",
       "dtype: int64"
      ]
     },
     "execution_count": 13,
     "metadata": {},
     "output_type": "execute_result"
    }
   ],
   "source": [
    "test_data.isnull().sum()"
   ]
  },
  {
   "cell_type": "code",
   "execution_count": 14,
   "metadata": {},
   "outputs": [
    {
     "name": "stdout",
     "output_type": "stream",
     "text": [
      "Missing values:\n",
      " id                       0.000000\n",
      "class                    0.000000\n",
      "cap-diameter             0.000128\n",
      "cap-shape                0.001283\n",
      "cap-surface             21.528227\n",
      "cap-color                0.000385\n",
      "does-bruise-or-bleed     0.000257\n",
      "gill-attachment         16.809280\n",
      "gill-spacing            40.373988\n",
      "gill-color               0.001829\n",
      "stem-height              0.000000\n",
      "stem-width               0.000000\n",
      "stem-root               88.452732\n",
      "stem-surface            63.551362\n",
      "stem-color               0.001219\n",
      "veil-type               94.884350\n",
      "veil-color              87.936970\n",
      "has-ring                 0.000770\n",
      "ring-type                4.134818\n",
      "spore-print-color       91.425482\n",
      "habitat                  0.001444\n",
      "season                   0.000000\n",
      "dtype: float64\n"
     ]
    }
   ],
   "source": [
    "# Check the missing values again if needed\n",
    "missing_values = train_data.isnull().sum()\n",
    "missing_percentage = (missing_values / len(train_data)) * 100\n",
    "print(\"Missing values:\\n\", missing_percentage)"
   ]
  },
  {
   "cell_type": "code",
   "execution_count": 15,
   "metadata": {},
   "outputs": [
    {
     "name": "stdout",
     "output_type": "stream",
     "text": [
      "Missing values:\n",
      " id                       0.000000\n",
      "cap-diameter             0.000337\n",
      "cap-shape                0.001492\n",
      "cap-surface             21.506821\n",
      "cap-color                0.000626\n",
      "does-bruise-or-bleed     0.000481\n",
      "gill-attachment         16.834796\n",
      "gill-spacing            40.404694\n",
      "gill-color               0.002358\n",
      "stem-height              0.000048\n",
      "stem-width               0.000000\n",
      "stem-root               88.452543\n",
      "stem-surface            63.595327\n",
      "stem-color               0.001011\n",
      "veil-type               94.878689\n",
      "veil-color              87.880445\n",
      "has-ring                 0.000914\n",
      "ring-type                4.148051\n",
      "spore-print-color       91.417224\n",
      "habitat                  0.001203\n",
      "season                   0.000000\n",
      "dtype: float64\n"
     ]
    }
   ],
   "source": [
    "# Check the missing values again if needed\n",
    "missing_values = test_data.isnull().sum()\n",
    "missing_percentage = (missing_values / len(test_data)) * 100\n",
    "print(\"Missing values:\\n\", missing_percentage)"
   ]
  },
  {
   "cell_type": "markdown",
   "metadata": {},
   "source": [
    "  handling missing values"
   ]
  },
  {
   "cell_type": "code",
   "execution_count": 16,
   "metadata": {},
   "outputs": [],
   "source": [
    "# Drop columns with more than 50% missing values\n",
    "cols_to_drop = missing_percentage[missing_percentage > 50].index\n",
    "train_data.drop(columns=cols_to_drop, inplace=True)\n",
    "test_data.drop(columns=cols_to_drop, inplace=True)"
   ]
  },
  {
   "cell_type": "code",
   "execution_count": 17,
   "metadata": {},
   "outputs": [
    {
     "name": "stderr",
     "output_type": "stream",
     "text": [
      "C:\\Users\\Admin\\AppData\\Local\\Temp\\ipykernel_11036\\690755808.py:5: FutureWarning: A value is trying to be set on a copy of a DataFrame or Series through chained assignment using an inplace method.\n",
      "The behavior will change in pandas 3.0. This inplace method will never work because the intermediate object on which we are setting values always behaves as a copy.\n",
      "\n",
      "For example, when doing 'df[col].method(value, inplace=True)', try using 'df.method({col: value}, inplace=True)' or df[col] = df[col].method(value) instead, to perform the operation inplace on the original object.\n",
      "\n",
      "\n",
      "  train_data[col].fillna(train_data[col].median(), inplace=True)\n",
      "C:\\Users\\Admin\\AppData\\Local\\Temp\\ipykernel_11036\\690755808.py:5: FutureWarning: A value is trying to be set on a copy of a DataFrame or Series through chained assignment using an inplace method.\n",
      "The behavior will change in pandas 3.0. This inplace method will never work because the intermediate object on which we are setting values always behaves as a copy.\n",
      "\n",
      "For example, when doing 'df[col].method(value, inplace=True)', try using 'df.method({col: value}, inplace=True)' or df[col] = df[col].method(value) instead, to perform the operation inplace on the original object.\n",
      "\n",
      "\n",
      "  train_data[col].fillna(train_data[col].median(), inplace=True)\n",
      "C:\\Users\\Admin\\AppData\\Local\\Temp\\ipykernel_11036\\690755808.py:5: FutureWarning: A value is trying to be set on a copy of a DataFrame or Series through chained assignment using an inplace method.\n",
      "The behavior will change in pandas 3.0. This inplace method will never work because the intermediate object on which we are setting values always behaves as a copy.\n",
      "\n",
      "For example, when doing 'df[col].method(value, inplace=True)', try using 'df.method({col: value}, inplace=True)' or df[col] = df[col].method(value) instead, to perform the operation inplace on the original object.\n",
      "\n",
      "\n",
      "  train_data[col].fillna(train_data[col].median(), inplace=True)\n",
      "C:\\Users\\Admin\\AppData\\Local\\Temp\\ipykernel_11036\\690755808.py:5: FutureWarning: A value is trying to be set on a copy of a DataFrame or Series through chained assignment using an inplace method.\n",
      "The behavior will change in pandas 3.0. This inplace method will never work because the intermediate object on which we are setting values always behaves as a copy.\n",
      "\n",
      "For example, when doing 'df[col].method(value, inplace=True)', try using 'df.method({col: value}, inplace=True)' or df[col] = df[col].method(value) instead, to perform the operation inplace on the original object.\n",
      "\n",
      "\n",
      "  train_data[col].fillna(train_data[col].median(), inplace=True)\n",
      "C:\\Users\\Admin\\AppData\\Local\\Temp\\ipykernel_11036\\690755808.py:10: FutureWarning: A value is trying to be set on a copy of a DataFrame or Series through chained assignment using an inplace method.\n",
      "The behavior will change in pandas 3.0. This inplace method will never work because the intermediate object on which we are setting values always behaves as a copy.\n",
      "\n",
      "For example, when doing 'df[col].method(value, inplace=True)', try using 'df.method({col: value}, inplace=True)' or df[col] = df[col].method(value) instead, to perform the operation inplace on the original object.\n",
      "\n",
      "\n",
      "  test_data[col].fillna(test_data[col].median(), inplace=True)\n",
      "C:\\Users\\Admin\\AppData\\Local\\Temp\\ipykernel_11036\\690755808.py:10: FutureWarning: A value is trying to be set on a copy of a DataFrame or Series through chained assignment using an inplace method.\n",
      "The behavior will change in pandas 3.0. This inplace method will never work because the intermediate object on which we are setting values always behaves as a copy.\n",
      "\n",
      "For example, when doing 'df[col].method(value, inplace=True)', try using 'df.method({col: value}, inplace=True)' or df[col] = df[col].method(value) instead, to perform the operation inplace on the original object.\n",
      "\n",
      "\n",
      "  test_data[col].fillna(test_data[col].median(), inplace=True)\n",
      "C:\\Users\\Admin\\AppData\\Local\\Temp\\ipykernel_11036\\690755808.py:10: FutureWarning: A value is trying to be set on a copy of a DataFrame or Series through chained assignment using an inplace method.\n",
      "The behavior will change in pandas 3.0. This inplace method will never work because the intermediate object on which we are setting values always behaves as a copy.\n",
      "\n",
      "For example, when doing 'df[col].method(value, inplace=True)', try using 'df.method({col: value}, inplace=True)' or df[col] = df[col].method(value) instead, to perform the operation inplace on the original object.\n",
      "\n",
      "\n",
      "  test_data[col].fillna(test_data[col].median(), inplace=True)\n",
      "C:\\Users\\Admin\\AppData\\Local\\Temp\\ipykernel_11036\\690755808.py:10: FutureWarning: A value is trying to be set on a copy of a DataFrame or Series through chained assignment using an inplace method.\n",
      "The behavior will change in pandas 3.0. This inplace method will never work because the intermediate object on which we are setting values always behaves as a copy.\n",
      "\n",
      "For example, when doing 'df[col].method(value, inplace=True)', try using 'df.method({col: value}, inplace=True)' or df[col] = df[col].method(value) instead, to perform the operation inplace on the original object.\n",
      "\n",
      "\n",
      "  test_data[col].fillna(test_data[col].median(), inplace=True)\n",
      "C:\\Users\\Admin\\AppData\\Local\\Temp\\ipykernel_11036\\690755808.py:16: FutureWarning: A value is trying to be set on a copy of a DataFrame or Series through chained assignment using an inplace method.\n",
      "The behavior will change in pandas 3.0. This inplace method will never work because the intermediate object on which we are setting values always behaves as a copy.\n",
      "\n",
      "For example, when doing 'df[col].method(value, inplace=True)', try using 'df.method({col: value}, inplace=True)' or df[col] = df[col].method(value) instead, to perform the operation inplace on the original object.\n",
      "\n",
      "\n",
      "  train_data[col].fillna(train_data[col].mode()[0], inplace=True)\n",
      "C:\\Users\\Admin\\AppData\\Local\\Temp\\ipykernel_11036\\690755808.py:21: FutureWarning: A value is trying to be set on a copy of a DataFrame or Series through chained assignment using an inplace method.\n",
      "The behavior will change in pandas 3.0. This inplace method will never work because the intermediate object on which we are setting values always behaves as a copy.\n",
      "\n",
      "For example, when doing 'df[col].method(value, inplace=True)', try using 'df.method({col: value}, inplace=True)' or df[col] = df[col].method(value) instead, to perform the operation inplace on the original object.\n",
      "\n",
      "\n",
      "  test_data[col].fillna(test_data[col].mode()[0], inplace=True)\n"
     ]
    }
   ],
   "source": [
    "# Impute for numerical columns using median\n",
    "# train_data\n",
    "numerical_cols = train_data.select_dtypes(include=[np.number]).columns\n",
    "for col in numerical_cols:\n",
    "    train_data[col].fillna(train_data[col].median(), inplace=True)\n",
    "\n",
    "# test_data\n",
    "numerical_cols = test_data.select_dtypes(include=[np.number]).columns\n",
    "for col in numerical_cols:\n",
    "    test_data[col].fillna(test_data[col].median(), inplace=True)\n",
    "\n",
    "#  Impute for categorical columns using mode\n",
    "#train_data\n",
    "categorical_cols = train_data.select_dtypes(include=['object']).columns\n",
    "for col in categorical_cols:\n",
    "    train_data[col].fillna(train_data[col].mode()[0], inplace=True)\n",
    "\n",
    "#test-data\n",
    "categorical_cols = test_data.select_dtypes(include=['object']).columns\n",
    "for col in categorical_cols:\n",
    "    test_data[col].fillna(test_data[col].mode()[0], inplace=True)\n"
   ]
  },
  {
   "cell_type": "code",
   "execution_count": 18,
   "metadata": {},
   "outputs": [
    {
     "name": "stdout",
     "output_type": "stream",
     "text": [
      "Missing values after handling:\n",
      " id                      0\n",
      "class                   0\n",
      "cap-diameter            0\n",
      "cap-shape               0\n",
      "cap-surface             0\n",
      "cap-color               0\n",
      "does-bruise-or-bleed    0\n",
      "gill-attachment         0\n",
      "gill-spacing            0\n",
      "gill-color              0\n",
      "stem-height             0\n",
      "stem-width              0\n",
      "stem-color              0\n",
      "has-ring                0\n",
      "ring-type               0\n",
      "habitat                 0\n",
      "season                  0\n",
      "dtype: int64\n"
     ]
    }
   ],
   "source": [
    "# again check null values in train data\n",
    "print(\"Missing values after handling:\\n\", train_data.isnull().sum())"
   ]
  },
  {
   "cell_type": "code",
   "execution_count": 19,
   "metadata": {},
   "outputs": [
    {
     "name": "stdout",
     "output_type": "stream",
     "text": [
      "Missing values after handling:\n",
      " id                      0\n",
      "cap-diameter            0\n",
      "cap-shape               0\n",
      "cap-surface             0\n",
      "cap-color               0\n",
      "does-bruise-or-bleed    0\n",
      "gill-attachment         0\n",
      "gill-spacing            0\n",
      "gill-color              0\n",
      "stem-height             0\n",
      "stem-width              0\n",
      "stem-color              0\n",
      "has-ring                0\n",
      "ring-type               0\n",
      "habitat                 0\n",
      "season                  0\n",
      "dtype: int64\n"
     ]
    }
   ],
   "source": [
    "# again chech null values test data\n",
    "print(\"Missing values after handling:\\n\", test_data.isnull().sum())"
   ]
  },
  {
   "cell_type": "code",
   "execution_count": 20,
   "metadata": {},
   "outputs": [
    {
     "data": {
      "text/html": [
       "<div>\n",
       "<style scoped>\n",
       "    .dataframe tbody tr th:only-of-type {\n",
       "        vertical-align: middle;\n",
       "    }\n",
       "\n",
       "    .dataframe tbody tr th {\n",
       "        vertical-align: top;\n",
       "    }\n",
       "\n",
       "    .dataframe thead th {\n",
       "        text-align: right;\n",
       "    }\n",
       "</style>\n",
       "<table border=\"1\" class=\"dataframe\">\n",
       "  <thead>\n",
       "    <tr style=\"text-align: right;\">\n",
       "      <th></th>\n",
       "      <th>id</th>\n",
       "      <th>class</th>\n",
       "      <th>cap-diameter</th>\n",
       "      <th>cap-shape</th>\n",
       "      <th>cap-surface</th>\n",
       "      <th>cap-color</th>\n",
       "      <th>does-bruise-or-bleed</th>\n",
       "      <th>gill-attachment</th>\n",
       "      <th>gill-spacing</th>\n",
       "      <th>gill-color</th>\n",
       "      <th>stem-height</th>\n",
       "      <th>stem-width</th>\n",
       "      <th>stem-color</th>\n",
       "      <th>has-ring</th>\n",
       "      <th>ring-type</th>\n",
       "      <th>habitat</th>\n",
       "      <th>season</th>\n",
       "    </tr>\n",
       "  </thead>\n",
       "  <tbody>\n",
       "    <tr>\n",
       "      <th>0</th>\n",
       "      <td>0</td>\n",
       "      <td>e</td>\n",
       "      <td>8.80</td>\n",
       "      <td>f</td>\n",
       "      <td>s</td>\n",
       "      <td>u</td>\n",
       "      <td>f</td>\n",
       "      <td>a</td>\n",
       "      <td>c</td>\n",
       "      <td>w</td>\n",
       "      <td>4.51</td>\n",
       "      <td>15.39</td>\n",
       "      <td>w</td>\n",
       "      <td>f</td>\n",
       "      <td>f</td>\n",
       "      <td>d</td>\n",
       "      <td>a</td>\n",
       "    </tr>\n",
       "    <tr>\n",
       "      <th>1</th>\n",
       "      <td>1</td>\n",
       "      <td>p</td>\n",
       "      <td>4.51</td>\n",
       "      <td>x</td>\n",
       "      <td>h</td>\n",
       "      <td>o</td>\n",
       "      <td>f</td>\n",
       "      <td>a</td>\n",
       "      <td>c</td>\n",
       "      <td>n</td>\n",
       "      <td>4.79</td>\n",
       "      <td>6.48</td>\n",
       "      <td>o</td>\n",
       "      <td>t</td>\n",
       "      <td>z</td>\n",
       "      <td>d</td>\n",
       "      <td>w</td>\n",
       "    </tr>\n",
       "    <tr>\n",
       "      <th>2</th>\n",
       "      <td>2</td>\n",
       "      <td>e</td>\n",
       "      <td>6.94</td>\n",
       "      <td>f</td>\n",
       "      <td>s</td>\n",
       "      <td>b</td>\n",
       "      <td>f</td>\n",
       "      <td>x</td>\n",
       "      <td>c</td>\n",
       "      <td>w</td>\n",
       "      <td>6.85</td>\n",
       "      <td>9.93</td>\n",
       "      <td>n</td>\n",
       "      <td>f</td>\n",
       "      <td>f</td>\n",
       "      <td>l</td>\n",
       "      <td>w</td>\n",
       "    </tr>\n",
       "    <tr>\n",
       "      <th>3</th>\n",
       "      <td>3</td>\n",
       "      <td>e</td>\n",
       "      <td>3.88</td>\n",
       "      <td>f</td>\n",
       "      <td>y</td>\n",
       "      <td>g</td>\n",
       "      <td>f</td>\n",
       "      <td>s</td>\n",
       "      <td>c</td>\n",
       "      <td>g</td>\n",
       "      <td>4.16</td>\n",
       "      <td>6.53</td>\n",
       "      <td>w</td>\n",
       "      <td>f</td>\n",
       "      <td>f</td>\n",
       "      <td>d</td>\n",
       "      <td>u</td>\n",
       "    </tr>\n",
       "    <tr>\n",
       "      <th>4</th>\n",
       "      <td>4</td>\n",
       "      <td>e</td>\n",
       "      <td>5.85</td>\n",
       "      <td>x</td>\n",
       "      <td>l</td>\n",
       "      <td>w</td>\n",
       "      <td>f</td>\n",
       "      <td>d</td>\n",
       "      <td>c</td>\n",
       "      <td>w</td>\n",
       "      <td>3.37</td>\n",
       "      <td>8.36</td>\n",
       "      <td>w</td>\n",
       "      <td>f</td>\n",
       "      <td>f</td>\n",
       "      <td>g</td>\n",
       "      <td>a</td>\n",
       "    </tr>\n",
       "  </tbody>\n",
       "</table>\n",
       "</div>"
      ],
      "text/plain": [
       "   id class  cap-diameter cap-shape cap-surface cap-color  \\\n",
       "0   0     e          8.80         f           s         u   \n",
       "1   1     p          4.51         x           h         o   \n",
       "2   2     e          6.94         f           s         b   \n",
       "3   3     e          3.88         f           y         g   \n",
       "4   4     e          5.85         x           l         w   \n",
       "\n",
       "  does-bruise-or-bleed gill-attachment gill-spacing gill-color  stem-height  \\\n",
       "0                    f               a            c          w         4.51   \n",
       "1                    f               a            c          n         4.79   \n",
       "2                    f               x            c          w         6.85   \n",
       "3                    f               s            c          g         4.16   \n",
       "4                    f               d            c          w         3.37   \n",
       "\n",
       "   stem-width stem-color has-ring ring-type habitat season  \n",
       "0       15.39          w        f         f       d      a  \n",
       "1        6.48          o        t         z       d      w  \n",
       "2        9.93          n        f         f       l      w  \n",
       "3        6.53          w        f         f       d      u  \n",
       "4        8.36          w        f         f       g      a  "
      ]
     },
     "execution_count": 20,
     "metadata": {},
     "output_type": "execute_result"
    }
   ],
   "source": [
    "train_data.head()"
   ]
  },
  {
   "cell_type": "code",
   "execution_count": 21,
   "metadata": {},
   "outputs": [
    {
     "data": {
      "text/plain": [
       "(3116945, 17)"
      ]
     },
     "execution_count": 21,
     "metadata": {},
     "output_type": "execute_result"
    }
   ],
   "source": [
    "train_data.shape"
   ]
  },
  {
   "cell_type": "code",
   "execution_count": 22,
   "metadata": {},
   "outputs": [
    {
     "data": {
      "text/plain": [
       "(2077964, 16)"
      ]
     },
     "execution_count": 22,
     "metadata": {},
     "output_type": "execute_result"
    }
   ],
   "source": [
    "test_data.shape"
   ]
  },
  {
   "cell_type": "code",
   "execution_count": 23,
   "metadata": {},
   "outputs": [
    {
     "data": {
      "text/html": [
       "<div>\n",
       "<style scoped>\n",
       "    .dataframe tbody tr th:only-of-type {\n",
       "        vertical-align: middle;\n",
       "    }\n",
       "\n",
       "    .dataframe tbody tr th {\n",
       "        vertical-align: top;\n",
       "    }\n",
       "\n",
       "    .dataframe thead th {\n",
       "        text-align: right;\n",
       "    }\n",
       "</style>\n",
       "<table border=\"1\" class=\"dataframe\">\n",
       "  <thead>\n",
       "    <tr style=\"text-align: right;\">\n",
       "      <th></th>\n",
       "      <th>id</th>\n",
       "      <th>cap-diameter</th>\n",
       "      <th>stem-height</th>\n",
       "      <th>stem-width</th>\n",
       "    </tr>\n",
       "  </thead>\n",
       "  <tbody>\n",
       "    <tr>\n",
       "      <th>count</th>\n",
       "      <td>3.116945e+06</td>\n",
       "      <td>3.116945e+06</td>\n",
       "      <td>3.116945e+06</td>\n",
       "      <td>3.116945e+06</td>\n",
       "    </tr>\n",
       "    <tr>\n",
       "      <th>mean</th>\n",
       "      <td>1.558472e+06</td>\n",
       "      <td>6.309848e+00</td>\n",
       "      <td>6.348333e+00</td>\n",
       "      <td>1.115379e+01</td>\n",
       "    </tr>\n",
       "    <tr>\n",
       "      <th>std</th>\n",
       "      <td>8.997847e+05</td>\n",
       "      <td>4.657928e+00</td>\n",
       "      <td>2.699755e+00</td>\n",
       "      <td>8.095477e+00</td>\n",
       "    </tr>\n",
       "    <tr>\n",
       "      <th>min</th>\n",
       "      <td>0.000000e+00</td>\n",
       "      <td>3.000000e-02</td>\n",
       "      <td>0.000000e+00</td>\n",
       "      <td>0.000000e+00</td>\n",
       "    </tr>\n",
       "    <tr>\n",
       "      <th>25%</th>\n",
       "      <td>7.792360e+05</td>\n",
       "      <td>3.320000e+00</td>\n",
       "      <td>4.670000e+00</td>\n",
       "      <td>4.970000e+00</td>\n",
       "    </tr>\n",
       "    <tr>\n",
       "      <th>50%</th>\n",
       "      <td>1.558472e+06</td>\n",
       "      <td>5.750000e+00</td>\n",
       "      <td>5.880000e+00</td>\n",
       "      <td>9.650000e+00</td>\n",
       "    </tr>\n",
       "    <tr>\n",
       "      <th>75%</th>\n",
       "      <td>2.337708e+06</td>\n",
       "      <td>8.240000e+00</td>\n",
       "      <td>7.410000e+00</td>\n",
       "      <td>1.563000e+01</td>\n",
       "    </tr>\n",
       "    <tr>\n",
       "      <th>max</th>\n",
       "      <td>3.116944e+06</td>\n",
       "      <td>8.067000e+01</td>\n",
       "      <td>8.872000e+01</td>\n",
       "      <td>1.029000e+02</td>\n",
       "    </tr>\n",
       "  </tbody>\n",
       "</table>\n",
       "</div>"
      ],
      "text/plain": [
       "                 id  cap-diameter   stem-height    stem-width\n",
       "count  3.116945e+06  3.116945e+06  3.116945e+06  3.116945e+06\n",
       "mean   1.558472e+06  6.309848e+00  6.348333e+00  1.115379e+01\n",
       "std    8.997847e+05  4.657928e+00  2.699755e+00  8.095477e+00\n",
       "min    0.000000e+00  3.000000e-02  0.000000e+00  0.000000e+00\n",
       "25%    7.792360e+05  3.320000e+00  4.670000e+00  4.970000e+00\n",
       "50%    1.558472e+06  5.750000e+00  5.880000e+00  9.650000e+00\n",
       "75%    2.337708e+06  8.240000e+00  7.410000e+00  1.563000e+01\n",
       "max    3.116944e+06  8.067000e+01  8.872000e+01  1.029000e+02"
      ]
     },
     "execution_count": 23,
     "metadata": {},
     "output_type": "execute_result"
    }
   ],
   "source": [
    "train_data.describe()"
   ]
  },
  {
   "cell_type": "code",
   "execution_count": 24,
   "metadata": {},
   "outputs": [
    {
     "name": "stdout",
     "output_type": "stream",
     "text": [
      "<class 'pandas.core.frame.DataFrame'>\n",
      "RangeIndex: 3116945 entries, 0 to 3116944\n",
      "Data columns (total 17 columns):\n",
      " #   Column                Dtype  \n",
      "---  ------                -----  \n",
      " 0   id                    int64  \n",
      " 1   class                 object \n",
      " 2   cap-diameter          float64\n",
      " 3   cap-shape             object \n",
      " 4   cap-surface           object \n",
      " 5   cap-color             object \n",
      " 6   does-bruise-or-bleed  object \n",
      " 7   gill-attachment       object \n",
      " 8   gill-spacing          object \n",
      " 9   gill-color            object \n",
      " 10  stem-height           float64\n",
      " 11  stem-width            float64\n",
      " 12  stem-color            object \n",
      " 13  has-ring              object \n",
      " 14  ring-type             object \n",
      " 15  habitat               object \n",
      " 16  season                object \n",
      "dtypes: float64(3), int64(1), object(13)\n",
      "memory usage: 404.3+ MB\n"
     ]
    }
   ],
   "source": [
    "train_data.info()\n"
   ]
  },
  {
   "cell_type": "code",
   "execution_count": 25,
   "metadata": {},
   "outputs": [
    {
     "name": "stdout",
     "output_type": "stream",
     "text": [
      "Index(['id', 'cap-diameter', 'stem-height', 'stem-width'], dtype='object')\n",
      "Index(['class', 'cap-shape', 'cap-surface', 'cap-color',\n",
      "       'does-bruise-or-bleed', 'gill-attachment', 'gill-spacing', 'gill-color',\n",
      "       'stem-color', 'has-ring', 'ring-type', 'habitat', 'season'],\n",
      "      dtype='object')\n"
     ]
    }
   ],
   "source": [
    "# Identify numerical and categorical columns\n",
    "# train_data\n",
    "numerical_cols = train_data.select_dtypes(include=['float64', 'int64']).columns\n",
    "categorical_cols = train_data.select_dtypes(include=['object']).columns\n",
    "\n",
    "print(numerical_cols)\n",
    "print(categorical_cols)"
   ]
  },
  {
   "cell_type": "code",
   "execution_count": 26,
   "metadata": {},
   "outputs": [
    {
     "name": "stdout",
     "output_type": "stream",
     "text": [
      "Index(['id', 'cap-diameter', 'stem-height', 'stem-width'], dtype='object')\n",
      "Index(['cap-shape', 'cap-surface', 'cap-color', 'does-bruise-or-bleed',\n",
      "       'gill-attachment', 'gill-spacing', 'gill-color', 'stem-color',\n",
      "       'has-ring', 'ring-type', 'habitat', 'season'],\n",
      "      dtype='object')\n"
     ]
    }
   ],
   "source": [
    "# Identify numerical and categorical columns\n",
    "# test_data\n",
    "test_numerical_cols = test_data.select_dtypes(include=['float64', 'int64']).columns\n",
    "test_categorical_cols = test_data.select_dtypes(include=['object']).columns\n",
    "\n",
    "print(test_numerical_cols)\n",
    "print(test_categorical_cols)"
   ]
  },
  {
   "cell_type": "code",
   "execution_count": 27,
   "metadata": {},
   "outputs": [
    {
     "name": "stdout",
     "output_type": "stream",
     "text": [
      "(3116945, 4)\n"
     ]
    },
    {
     "data": {
      "text/html": [
       "<div>\n",
       "<style scoped>\n",
       "    .dataframe tbody tr th:only-of-type {\n",
       "        vertical-align: middle;\n",
       "    }\n",
       "\n",
       "    .dataframe tbody tr th {\n",
       "        vertical-align: top;\n",
       "    }\n",
       "\n",
       "    .dataframe thead th {\n",
       "        text-align: right;\n",
       "    }\n",
       "</style>\n",
       "<table border=\"1\" class=\"dataframe\">\n",
       "  <thead>\n",
       "    <tr style=\"text-align: right;\">\n",
       "      <th></th>\n",
       "      <th>id</th>\n",
       "      <th>cap-diameter</th>\n",
       "      <th>stem-height</th>\n",
       "      <th>stem-width</th>\n",
       "    </tr>\n",
       "  </thead>\n",
       "  <tbody>\n",
       "    <tr>\n",
       "      <th>0</th>\n",
       "      <td>0</td>\n",
       "      <td>8.80</td>\n",
       "      <td>4.51</td>\n",
       "      <td>15.39</td>\n",
       "    </tr>\n",
       "    <tr>\n",
       "      <th>1</th>\n",
       "      <td>1</td>\n",
       "      <td>4.51</td>\n",
       "      <td>4.79</td>\n",
       "      <td>6.48</td>\n",
       "    </tr>\n",
       "    <tr>\n",
       "      <th>2</th>\n",
       "      <td>2</td>\n",
       "      <td>6.94</td>\n",
       "      <td>6.85</td>\n",
       "      <td>9.93</td>\n",
       "    </tr>\n",
       "    <tr>\n",
       "      <th>3</th>\n",
       "      <td>3</td>\n",
       "      <td>3.88</td>\n",
       "      <td>4.16</td>\n",
       "      <td>6.53</td>\n",
       "    </tr>\n",
       "    <tr>\n",
       "      <th>4</th>\n",
       "      <td>4</td>\n",
       "      <td>5.85</td>\n",
       "      <td>3.37</td>\n",
       "      <td>8.36</td>\n",
       "    </tr>\n",
       "  </tbody>\n",
       "</table>\n",
       "</div>"
      ],
      "text/plain": [
       "   id  cap-diameter  stem-height  stem-width\n",
       "0   0          8.80         4.51       15.39\n",
       "1   1          4.51         4.79        6.48\n",
       "2   2          6.94         6.85        9.93\n",
       "3   3          3.88         4.16        6.53\n",
       "4   4          5.85         3.37        8.36"
      ]
     },
     "execution_count": 27,
     "metadata": {},
     "output_type": "execute_result"
    }
   ],
   "source": [
    "# numeric data\n",
    "print(train_data[numerical_cols].shape)\n",
    "train_data[numerical_cols].head()\n"
   ]
  },
  {
   "cell_type": "code",
   "execution_count": 28,
   "metadata": {},
   "outputs": [
    {
     "name": "stdout",
     "output_type": "stream",
     "text": [
      "(3116945, 13)\n"
     ]
    },
    {
     "data": {
      "text/html": [
       "<div>\n",
       "<style scoped>\n",
       "    .dataframe tbody tr th:only-of-type {\n",
       "        vertical-align: middle;\n",
       "    }\n",
       "\n",
       "    .dataframe tbody tr th {\n",
       "        vertical-align: top;\n",
       "    }\n",
       "\n",
       "    .dataframe thead th {\n",
       "        text-align: right;\n",
       "    }\n",
       "</style>\n",
       "<table border=\"1\" class=\"dataframe\">\n",
       "  <thead>\n",
       "    <tr style=\"text-align: right;\">\n",
       "      <th></th>\n",
       "      <th>class</th>\n",
       "      <th>cap-shape</th>\n",
       "      <th>cap-surface</th>\n",
       "      <th>cap-color</th>\n",
       "      <th>does-bruise-or-bleed</th>\n",
       "      <th>gill-attachment</th>\n",
       "      <th>gill-spacing</th>\n",
       "      <th>gill-color</th>\n",
       "      <th>stem-color</th>\n",
       "      <th>has-ring</th>\n",
       "      <th>ring-type</th>\n",
       "      <th>habitat</th>\n",
       "      <th>season</th>\n",
       "    </tr>\n",
       "  </thead>\n",
       "  <tbody>\n",
       "    <tr>\n",
       "      <th>0</th>\n",
       "      <td>e</td>\n",
       "      <td>f</td>\n",
       "      <td>s</td>\n",
       "      <td>u</td>\n",
       "      <td>f</td>\n",
       "      <td>a</td>\n",
       "      <td>c</td>\n",
       "      <td>w</td>\n",
       "      <td>w</td>\n",
       "      <td>f</td>\n",
       "      <td>f</td>\n",
       "      <td>d</td>\n",
       "      <td>a</td>\n",
       "    </tr>\n",
       "    <tr>\n",
       "      <th>1</th>\n",
       "      <td>p</td>\n",
       "      <td>x</td>\n",
       "      <td>h</td>\n",
       "      <td>o</td>\n",
       "      <td>f</td>\n",
       "      <td>a</td>\n",
       "      <td>c</td>\n",
       "      <td>n</td>\n",
       "      <td>o</td>\n",
       "      <td>t</td>\n",
       "      <td>z</td>\n",
       "      <td>d</td>\n",
       "      <td>w</td>\n",
       "    </tr>\n",
       "    <tr>\n",
       "      <th>2</th>\n",
       "      <td>e</td>\n",
       "      <td>f</td>\n",
       "      <td>s</td>\n",
       "      <td>b</td>\n",
       "      <td>f</td>\n",
       "      <td>x</td>\n",
       "      <td>c</td>\n",
       "      <td>w</td>\n",
       "      <td>n</td>\n",
       "      <td>f</td>\n",
       "      <td>f</td>\n",
       "      <td>l</td>\n",
       "      <td>w</td>\n",
       "    </tr>\n",
       "    <tr>\n",
       "      <th>3</th>\n",
       "      <td>e</td>\n",
       "      <td>f</td>\n",
       "      <td>y</td>\n",
       "      <td>g</td>\n",
       "      <td>f</td>\n",
       "      <td>s</td>\n",
       "      <td>c</td>\n",
       "      <td>g</td>\n",
       "      <td>w</td>\n",
       "      <td>f</td>\n",
       "      <td>f</td>\n",
       "      <td>d</td>\n",
       "      <td>u</td>\n",
       "    </tr>\n",
       "    <tr>\n",
       "      <th>4</th>\n",
       "      <td>e</td>\n",
       "      <td>x</td>\n",
       "      <td>l</td>\n",
       "      <td>w</td>\n",
       "      <td>f</td>\n",
       "      <td>d</td>\n",
       "      <td>c</td>\n",
       "      <td>w</td>\n",
       "      <td>w</td>\n",
       "      <td>f</td>\n",
       "      <td>f</td>\n",
       "      <td>g</td>\n",
       "      <td>a</td>\n",
       "    </tr>\n",
       "  </tbody>\n",
       "</table>\n",
       "</div>"
      ],
      "text/plain": [
       "  class cap-shape cap-surface cap-color does-bruise-or-bleed gill-attachment  \\\n",
       "0     e         f           s         u                    f               a   \n",
       "1     p         x           h         o                    f               a   \n",
       "2     e         f           s         b                    f               x   \n",
       "3     e         f           y         g                    f               s   \n",
       "4     e         x           l         w                    f               d   \n",
       "\n",
       "  gill-spacing gill-color stem-color has-ring ring-type habitat season  \n",
       "0            c          w          w        f         f       d      a  \n",
       "1            c          n          o        t         z       d      w  \n",
       "2            c          w          n        f         f       l      w  \n",
       "3            c          g          w        f         f       d      u  \n",
       "4            c          w          w        f         f       g      a  "
      ]
     },
     "execution_count": 28,
     "metadata": {},
     "output_type": "execute_result"
    }
   ],
   "source": [
    "# categorical data\n",
    "print(train_data[categorical_cols].shape)\n",
    "train_data[categorical_cols].head()"
   ]
  },
  {
   "cell_type": "code",
   "execution_count": 29,
   "metadata": {},
   "outputs": [
    {
     "data": {
      "image/png": "[encoded data removed]",
      "text/plain": [
       "<Figure size 640x480 with 1 Axes>"
      ]
     },
     "metadata": {},
     "output_type": "display_data"
    }
   ],
   "source": [
    "# Visualizing the distribution of the target variable\n",
    "sns.countplot(x='class', data=train_data)\n",
    "plt.title('Distribution of Edible vs Poisonous Mushrooms')\n",
    "plt.show()"
   ]
  },
  {
   "cell_type": "code",
   "execution_count": 30,
   "metadata": {},
   "outputs": [],
   "source": [
    "# # Plotting the histograms with KDE for each numerical feature\n",
    "\n",
    "# plt.figure(figsize=(16, 12))\n",
    "# for i, col in enumerate(numerical_cols):\n",
    "#     plt.subplot(len(numerical_cols) // 2 + 1, 2, i + 1)  \n",
    "#     sns.histplot(train_data[col], kde=True, bins=30)\n",
    "#     plt.title(f'{col} Distribution')\n",
    "#     plt.xlabel(col)\n",
    "#     plt.ylabel('Frequency')\n",
    "\n",
    "# plt.tight_layout()\n",
    "# plt.show()"
   ]
  },
  {
   "cell_type": "code",
   "execution_count": 31,
   "metadata": {},
   "outputs": [],
   "source": [
    "# # check outlier in numeric data \n",
    "# # box plot\n",
    "# plt.figure(figsize=(16, 12))\n",
    "# for i, col in enumerate(numerical_cols):\n",
    "#     plt.subplot(3, 3, i + 1)  \n",
    "#     sns.boxplot(y=train_data[col])  \n",
    "#     plt.title(f'{col} Box Plot')\n",
    "#     plt.ylabel(col)\n",
    "\n",
    "# plt.tight_layout()\n",
    "# plt.show()"
   ]
  },
  {
   "cell_type": "markdown",
   "metadata": {},
   "source": [
    "handling outlier "
   ]
  },
  {
   "cell_type": "code",
   "execution_count": 32,
   "metadata": {},
   "outputs": [],
   "source": [
    "# cap_outlier\n",
    "def cap_outliers(df):\n",
    "    df_capped = df.copy()\n",
    "    for column in df.select_dtypes(include='number').columns:\n",
    "        Q1 = df_capped[column].quantile(0.25)\n",
    "        Q3 = df_capped[column].quantile(0.75)\n",
    "        IQR = Q3 - Q1\n",
    "        lower_bound = Q1 - 1.5 * IQR\n",
    "        upper_bound = Q3 + 1.5 * IQR\n",
    "\n",
    "        df_capped[column] = df_capped[column].clip(lower=lower_bound, upper=upper_bound)\n",
    "\n",
    "    return df_capped"
   ]
  },
  {
   "cell_type": "code",
   "execution_count": 33,
   "metadata": {},
   "outputs": [],
   "source": [
    "# handle outlier using mean\n",
    "import numpy as np\n",
    "\n",
    "def handle_outliers_mean(df):\n",
    "    df_mean_handled = df.copy()\n",
    "    \n",
    "    for column in df.select_dtypes(include='number').columns:\n",
    "        Q1 = df_mean_handled[column].quantile(0.25)\n",
    "        Q3 = df_mean_handled[column].quantile(0.75)\n",
    "        IQR = Q3 - Q1\n",
    "        lower_bound = Q1 - 1.5 * IQR\n",
    "        upper_bound = Q3 + 1.5 * IQR\n",
    "\n",
    "        mean_value = df_mean_handled[column][(df_mean_handled[column] >= lower_bound) & \n",
    "                                             (df_mean_handled[column] <= upper_bound)].mean()\n",
    "        df_mean_handled[column] = np.where(\n",
    "            (df_mean_handled[column] < lower_bound) | (df_mean_handled[column] > upper_bound),\n",
    "            mean_value,\n",
    "            df_mean_handled[column]\n",
    "        )\n",
    "\n",
    "    return df_mean_handled\n",
    "\n",
    "df_mean_handled = handle_outliers_mean(train_data[numerical_cols])\n"
   ]
  },
  {
   "cell_type": "code",
   "execution_count": 34,
   "metadata": {},
   "outputs": [],
   "source": [
    "# handle outlier using log_tranform\n",
    "import numpy as np\n",
    "\n",
    "def log_transform(df):\n",
    "    df_log_transformed = df.copy()\n",
    "    \n",
    "    for column in df_log_transformed.select_dtypes(include='number').columns:\n",
    "        df_log_transformed[column] = np.log1p(df_log_transformed[column])\n",
    "\n",
    "    return df_log_transformed\n",
    "\n",
    "df_log_transformed = log_transform(train_data[numerical_cols])\n"
   ]
  },
  {
   "cell_type": "code",
   "execution_count": 35,
   "metadata": {},
   "outputs": [],
   "source": [
    "# you can choose any of them for handle outlier\n",
    "\n",
    "# method-1. cap_outlier \n",
    "# method-2. handle outlier using mean,median\n",
    "# method-3. handle outlier using log_tranform\n"
   ]
  },
  {
   "cell_type": "code",
   "execution_count": 36,
   "metadata": {},
   "outputs": [],
   "source": [
    "# cap outlier\n",
    "train_data[numerical_cols] = cap_outliers(train_data[numerical_cols])\n"
   ]
  },
  {
   "cell_type": "code",
   "execution_count": 37,
   "metadata": {},
   "outputs": [],
   "source": [
    "# #  after handle outlier Plotting the histograms with KDE for each numerical feature\n",
    "\n",
    "# plt.figure(figsize=(16, 12))\n",
    "# for i, col in enumerate(numerical_cols):\n",
    "#     plt.subplot(len(numerical_cols) // 2 + 1, 2, i + 1)  \n",
    "#     sns.histplot(train_data[col], kde=True, bins=30)\n",
    "#     plt.title(f'{col} Distribution')\n",
    "#     plt.xlabel(col)\n",
    "#     plt.ylabel('Frequency')\n",
    "\n",
    "# plt.tight_layout()\n",
    "# plt.show()"
   ]
  },
  {
   "cell_type": "code",
   "execution_count": 38,
   "metadata": {},
   "outputs": [],
   "source": [
    "# # box plot\n",
    "# plt.figure(figsize=(16, 12))\n",
    "# for i, col in enumerate(numerical_cols):\n",
    "#     plt.subplot(3, 3, i + 1)  \n",
    "#     sns.boxplot(y=train_data[col]) \n",
    "#     plt.title(f'{col} Box Plot')\n",
    "#     plt.ylabel(col)\n",
    "\n",
    "# plt.tight_layout()\n",
    "# plt.show()"
   ]
  },
  {
   "cell_type": "markdown",
   "metadata": {},
   "source": [
    "2.3  Preprocessing categorical columns\n",
    "\n"
   ]
  },
  {
   "cell_type": "code",
   "execution_count": 39,
   "metadata": {},
   "outputs": [],
   "source": [
    "# plt.figure(figsize=(25, 25))\n",
    "\n",
    "# for i, feature in enumerate(categorical_cols):\n",
    "#     plt.subplot((len(categorical_cols) + 1) // 2, 2, i + 1)  \n",
    "#     sns.countplot(data=train_data, x=feature)  \n",
    "#     plt.title(f'Distribution of {feature} by Class')\n",
    "#     plt.xlabel(feature)\n",
    "#     plt.ylabel('Count')\n",
    "\n",
    "# plt.tight_layout()\n",
    "# plt.show()\n"
   ]
  },
  {
   "cell_type": "code",
   "execution_count": 40,
   "metadata": {},
   "outputs": [
    {
     "name": "stdout",
     "output_type": "stream",
     "text": [
      "class                   object\n",
      "cap-shape               object\n",
      "cap-surface             object\n",
      "cap-color               object\n",
      "does-bruise-or-bleed    object\n",
      "gill-attachment         object\n",
      "gill-spacing            object\n",
      "gill-color              object\n",
      "stem-color              object\n",
      "has-ring                object\n",
      "ring-type               object\n",
      "habitat                 object\n",
      "season                  object\n",
      "dtype: object\n"
     ]
    }
   ],
   "source": [
    "print(train_data[categorical_cols].dtypes)\n"
   ]
  },
  {
   "cell_type": "code",
   "execution_count": 41,
   "metadata": {},
   "outputs": [
    {
     "data": {
      "text/plain": [
       "gill-attachment\n",
       "a        1169970\n",
       "d         589236\n",
       "x         360878\n",
       "e         301858\n",
       "s         295439\n",
       "          ...   \n",
       "1              1\n",
       "is a           1\n",
       "3.71           1\n",
       "50.44          1\n",
       "13.94          1\n",
       "Name: count, Length: 78, dtype: int64"
      ]
     },
     "execution_count": 41,
     "metadata": {},
     "output_type": "execute_result"
    }
   ],
   "source": [
    "train_data['gill-attachment'].value_counts()"
   ]
  },
  {
   "cell_type": "code",
   "execution_count": 42,
   "metadata": {},
   "outputs": [
    {
     "data": {
      "text/plain": [
       "class                    2\n",
       "cap-shape               74\n",
       "cap-surface             83\n",
       "cap-color               78\n",
       "does-bruise-or-bleed    26\n",
       "gill-attachment         78\n",
       "gill-spacing            48\n",
       "gill-color              63\n",
       "stem-color              59\n",
       "has-ring                23\n",
       "ring-type               40\n",
       "habitat                 52\n",
       "season                   4\n",
       "dtype: int64"
      ]
     },
     "execution_count": 42,
     "metadata": {},
     "output_type": "execute_result"
    }
   ],
   "source": [
    "train_data[categorical_cols].nunique()"
   ]
  },
  {
   "cell_type": "markdown",
   "metadata": {},
   "source": [
    "# in categorical features have mix data numeric and text so i consider only text data\n",
    "# choose only alphabet & remove numeric data in categorical column\n"
   ]
  },
  {
   "cell_type": "code",
   "execution_count": 43,
   "metadata": {},
   "outputs": [],
   "source": [
    "# train_data\n",
    "def filter_alphabetic(categorical_cols):\n",
    "    return categorical_cols[categorical_cols.str.isalpha()]\n",
    "\n",
    "train_data[categorical_cols] = train_data[categorical_cols].apply(filter_alphabetic)\n",
    "\n"
   ]
  },
  {
   "cell_type": "code",
   "execution_count": 44,
   "metadata": {},
   "outputs": [
    {
     "name": "stdout",
     "output_type": "stream",
     "text": [
      "Column: class\n",
      "class\n",
      "p    1705396\n",
      "e    1411549\n",
      "Name: count, dtype: int64\n",
      "\n",
      "\n",
      "Column: cap-shape\n",
      "cap-shape\n",
      "x    1436066\n",
      "f     676238\n",
      "s     365146\n",
      "b     318646\n",
      "o     108835\n",
      "p     106967\n",
      "c     104520\n",
      "d         65\n",
      "e         60\n",
      "n         41\n",
      "t         36\n",
      "w         36\n",
      "g         34\n",
      "y         33\n",
      "r         32\n",
      "a         30\n",
      "u         27\n",
      "z         22\n",
      "l         21\n",
      "i         14\n",
      "k         13\n",
      "h          6\n",
      "m          2\n",
      "Name: count, dtype: int64\n",
      "\n",
      "\n",
      "Column: cap-surface\n",
      "cap-surface\n",
      "t         1131800\n",
      "s          384970\n",
      "y          327826\n",
      "h          284460\n",
      "g          263729\n",
      "d          206832\n",
      "k          128875\n",
      "e          119712\n",
      "i          113440\n",
      "w          109840\n",
      "l           44859\n",
      "n              96\n",
      "f              75\n",
      "p              59\n",
      "u              49\n",
      "a              44\n",
      "m              42\n",
      "o              39\n",
      "r              35\n",
      "x              33\n",
      "c              31\n",
      "b              18\n",
      "z               8\n",
      "season          7\n",
      "class           2\n",
      "Name: count, dtype: int64\n",
      "\n",
      "\n",
      "Column: cap-color\n",
      "cap-color\n",
      "n         1359554\n",
      "y          386627\n",
      "w          379442\n",
      "g          210825\n",
      "e          197290\n",
      "o          178847\n",
      "p           91838\n",
      "r           78236\n",
      "u           73172\n",
      "b           61313\n",
      "k           59888\n",
      "l           39558\n",
      "f              53\n",
      "d              48\n",
      "s              39\n",
      "a              30\n",
      "t              26\n",
      "h              22\n",
      "m              14\n",
      "c              14\n",
      "x              14\n",
      "i              13\n",
      "z              10\n",
      "season          6\n",
      "class           5\n",
      "Name: count, dtype: int64\n",
      "\n",
      "\n",
      "Column: does-bruise-or-bleed\n",
      "does-bruise-or-bleed\n",
      "f    2569751\n",
      "t     547085\n",
      "w         14\n",
      "c         11\n",
      "h          9\n",
      "y          7\n",
      "a          7\n",
      "x          7\n",
      "b          7\n",
      "s          6\n",
      "k          6\n",
      "p          4\n",
      "l          4\n",
      "d          4\n",
      "e          4\n",
      "g          3\n",
      "o          3\n",
      "z          3\n",
      "i          2\n",
      "n          2\n",
      "r          1\n",
      "u          1\n",
      "Name: count, dtype: int64\n",
      "\n",
      "\n",
      "Column: gill-attachment\n",
      "gill-attachment\n",
      "a         1169970\n",
      "d          589236\n",
      "x          360878\n",
      "e          301858\n",
      "s          295439\n",
      "p          279110\n",
      "f          119953\n",
      "c              74\n",
      "u              56\n",
      "w              37\n",
      "t              36\n",
      "k              33\n",
      "y              28\n",
      "i              25\n",
      "g              22\n",
      "m              22\n",
      "b              21\n",
      "n              20\n",
      "o              18\n",
      "h              18\n",
      "l              16\n",
      "r              10\n",
      "z               5\n",
      "season          5\n",
      "does            1\n",
      "Name: count, dtype: int64\n",
      "\n",
      "\n",
      "Column: gill-spacing\n",
      "gill-spacing\n",
      "c        2589489\n",
      "d         407932\n",
      "f         119380\n",
      "e             24\n",
      "a             17\n",
      "s             16\n",
      "b             12\n",
      "x              8\n",
      "t              8\n",
      "p              7\n",
      "k              4\n",
      "g              4\n",
      "h              3\n",
      "l              3\n",
      "y              2\n",
      "r              2\n",
      "class          1\n",
      "i              1\n",
      "w              1\n",
      "n              1\n",
      "Name: count, dtype: int64\n",
      "\n",
      "\n",
      "Column: gill-color\n",
      "gill-color\n",
      "w          931595\n",
      "n          543386\n",
      "y          469464\n",
      "p          343626\n",
      "g          212164\n",
      "o          157119\n",
      "k          127970\n",
      "f          119694\n",
      "r           62799\n",
      "e           56047\n",
      "b           47247\n",
      "u           45399\n",
      "l              55\n",
      "t              54\n",
      "d              54\n",
      "s              46\n",
      "x              35\n",
      "c              31\n",
      "a              28\n",
      "h              24\n",
      "z              16\n",
      "m              16\n",
      "i               9\n",
      "season          7\n",
      "class           7\n",
      "spacing         4\n",
      "habitat         2\n",
      "Name: count, dtype: int64\n",
      "\n",
      "\n",
      "Column: stem-color\n",
      "stem-color\n",
      "w        1196675\n",
      "n        1003464\n",
      "y         373971\n",
      "g         132019\n",
      "o         111541\n",
      "e         103373\n",
      "u          67017\n",
      "p          54690\n",
      "k          33676\n",
      "r          22329\n",
      "l           9994\n",
      "b           7365\n",
      "f            573\n",
      "s             51\n",
      "t             40\n",
      "a             36\n",
      "x             20\n",
      "i             19\n",
      "d             16\n",
      "h             12\n",
      "m             11\n",
      "c              7\n",
      "z              6\n",
      "class          2\n",
      "Name: count, dtype: int64\n",
      "\n",
      "\n",
      "Column: has-ring\n",
      "has-ring\n",
      "f    2368844\n",
      "t     747982\n",
      "r         16\n",
      "h         13\n",
      "l         11\n",
      "s         11\n",
      "p         11\n",
      "c         11\n",
      "g          8\n",
      "e          6\n",
      "z          6\n",
      "x          5\n",
      "m          4\n",
      "y          3\n",
      "d          3\n",
      "k          2\n",
      "o          2\n",
      "n          2\n",
      "i          1\n",
      "w          1\n",
      "a          1\n",
      "Name: count, dtype: int64\n",
      "\n",
      "\n",
      "Column: ring-type\n",
      "ring-type\n",
      "f         2606050\n",
      "e          120006\n",
      "z          113780\n",
      "l           73443\n",
      "r           67909\n",
      "p           67678\n",
      "g           63687\n",
      "m            3992\n",
      "t              98\n",
      "d              37\n",
      "n              34\n",
      "x              32\n",
      "b              29\n",
      "y              25\n",
      "s              18\n",
      "k              18\n",
      "a              16\n",
      "h              15\n",
      "w              14\n",
      "u              13\n",
      "c              11\n",
      "o               9\n",
      "i               4\n",
      "season          3\n",
      "class           1\n",
      "sp              1\n",
      "Name: count, dtype: int64\n",
      "\n",
      "\n",
      "Column: habitat\n",
      "habitat\n",
      "d          2177618\n",
      "g           454908\n",
      "l           171892\n",
      "m           150969\n",
      "h           120137\n",
      "w            18530\n",
      "p            17180\n",
      "u             5264\n",
      "e               55\n",
      "s               52\n",
      "n               41\n",
      "t               40\n",
      "r               38\n",
      "y               34\n",
      "a               34\n",
      "k               31\n",
      "c               26\n",
      "b               18\n",
      "o               12\n",
      "f               11\n",
      "i                7\n",
      "z                5\n",
      "habitat          5\n",
      "x                5\n",
      "class            3\n",
      "Name: count, dtype: int64\n",
      "\n",
      "\n",
      "Column: season\n",
      "season\n",
      "a    1543321\n",
      "u    1153588\n",
      "w     278189\n",
      "s     141847\n",
      "Name: count, dtype: int64\n",
      "\n",
      "\n"
     ]
    }
   ],
   "source": [
    "for column in categorical_cols:\n",
    "    print(f\"Column: {column}\")\n",
    "    print(train_data[column].value_counts())\n",
    "    print(\"\\n\")\n"
   ]
  },
  {
   "cell_type": "code",
   "execution_count": 45,
   "metadata": {},
   "outputs": [],
   "source": [
    "# test_data\n",
    "def filter_alphabetic(test_categorical_cols):\n",
    "    return test_categorical_cols[test_categorical_cols.str.isalpha()]\n",
    "\n",
    "test_data[test_categorical_cols] = test_data[test_categorical_cols].apply(filter_alphabetic)\n",
    "\n"
   ]
  },
  {
   "cell_type": "code",
   "execution_count": 46,
   "metadata": {},
   "outputs": [
    {
     "name": "stdout",
     "output_type": "stream",
     "text": [
      "Column: cap-shape\n",
      "cap-shape\n",
      "x    957980\n",
      "f    452360\n",
      "s    242698\n",
      "b    211879\n",
      "o     71972\n",
      "p     71302\n",
      "c     69436\n",
      "e        33\n",
      "d        30\n",
      "t        28\n",
      "w        27\n",
      "n        27\n",
      "a        24\n",
      "y        24\n",
      "u        18\n",
      "g        17\n",
      "k        17\n",
      "l        17\n",
      "r        16\n",
      "z         8\n",
      "i         4\n",
      "m         4\n",
      "h         3\n",
      "Name: count, dtype: int64\n",
      "\n",
      "\n",
      "Column: cap-surface\n",
      "cap-surface\n",
      "t          753756\n",
      "s          257190\n",
      "y          218336\n",
      "h          189737\n",
      "g          176140\n",
      "d          137675\n",
      "k           86041\n",
      "e           79918\n",
      "i           75570\n",
      "w           73109\n",
      "l           30101\n",
      "f              54\n",
      "n              50\n",
      "p              44\n",
      "o              37\n",
      "a              28\n",
      "x              27\n",
      "m              25\n",
      "r              25\n",
      "u              21\n",
      "c              19\n",
      "b              14\n",
      "z               6\n",
      "season          3\n",
      "class           1\n",
      "habitat         1\n",
      "Name: count, dtype: int64\n",
      "\n",
      "\n",
      "Column: cap-color\n",
      "cap-color\n",
      "n          904320\n",
      "y          259062\n",
      "w          253844\n",
      "g          140681\n",
      "e          131524\n",
      "o          119764\n",
      "p           61186\n",
      "r           51784\n",
      "u           48865\n",
      "b           40790\n",
      "k           39615\n",
      "l           26261\n",
      "f              45\n",
      "d              40\n",
      "a              36\n",
      "s              20\n",
      "i              16\n",
      "t              16\n",
      "x              14\n",
      "h              13\n",
      "c              12\n",
      "z               8\n",
      "m               6\n",
      "class           3\n",
      "season          2\n",
      "habitat         1\n",
      "Name: count, dtype: int64\n",
      "\n",
      "\n",
      "Column: does-bruise-or-bleed\n",
      "does-bruise-or-bleed\n",
      "f         1713672\n",
      "t          364227\n",
      "x              11\n",
      "w               7\n",
      "s               7\n",
      "p               5\n",
      "n               4\n",
      "h               4\n",
      "k               3\n",
      "c               3\n",
      "e               3\n",
      "g               3\n",
      "o               3\n",
      "a               2\n",
      "b               2\n",
      "m               2\n",
      "season          1\n",
      "i               1\n",
      "r               1\n",
      "l               1\n",
      "y               1\n",
      "Name: count, dtype: int64\n",
      "\n",
      "\n",
      "Column: gill-attachment\n",
      "gill-attachment\n",
      "a         780781\n",
      "d         392584\n",
      "x         240758\n",
      "e         201276\n",
      "s         196279\n",
      "p         186334\n",
      "f          79630\n",
      "c             53\n",
      "u             35\n",
      "t             27\n",
      "w             26\n",
      "k             20\n",
      "g             17\n",
      "i             14\n",
      "n             13\n",
      "y             12\n",
      "l             11\n",
      "b             11\n",
      "o             11\n",
      "h              9\n",
      "m              7\n",
      "r              7\n",
      "z              3\n",
      "season         3\n",
      "class          2\n",
      "Name: count, dtype: int64\n",
      "\n",
      "\n",
      "Column: gill-spacing\n",
      "gill-spacing\n",
      "c    1726571\n",
      "d     272085\n",
      "f      79223\n",
      "e         11\n",
      "s         10\n",
      "a         10\n",
      "b          7\n",
      "x          6\n",
      "p          5\n",
      "w          4\n",
      "y          4\n",
      "g          3\n",
      "m          2\n",
      "t          2\n",
      "r          1\n",
      "i          1\n",
      "k          1\n",
      "Name: count, dtype: int64\n",
      "\n",
      "\n",
      "Column: gill-color\n",
      "gill-color\n",
      "w          620822\n",
      "n          362169\n",
      "y          313932\n",
      "p          229155\n",
      "g          141519\n",
      "o          105048\n",
      "k           85360\n",
      "f           79482\n",
      "r           41499\n",
      "e           37432\n",
      "b           31183\n",
      "u           30084\n",
      "d              37\n",
      "l              37\n",
      "s              30\n",
      "x              28\n",
      "c              26\n",
      "t              24\n",
      "a              20\n",
      "h              13\n",
      "z               9\n",
      "m               6\n",
      "i               5\n",
      "spacing         4\n",
      "season          3\n",
      "class           3\n",
      "habitat         1\n",
      "Name: count, dtype: int64\n",
      "\n",
      "\n",
      "Column: stem-color\n",
      "stem-color\n",
      "w          797386\n",
      "n          668156\n",
      "y          250141\n",
      "g           88202\n",
      "o           75094\n",
      "e           68804\n",
      "u           44784\n",
      "p           36356\n",
      "k           22176\n",
      "r           14910\n",
      "l            6518\n",
      "b            4895\n",
      "f             355\n",
      "s              35\n",
      "a              21\n",
      "t              21\n",
      "i              21\n",
      "x              17\n",
      "h              12\n",
      "d              12\n",
      "c               8\n",
      "m               3\n",
      "z               3\n",
      "season          1\n",
      "class           1\n",
      "habitat         1\n",
      "Name: count, dtype: int64\n",
      "\n",
      "\n",
      "Column: has-ring\n",
      "has-ring\n",
      "f    1578111\n",
      "t     499759\n",
      "e         14\n",
      "r         11\n",
      "c          9\n",
      "g          9\n",
      "h          8\n",
      "d          5\n",
      "l          5\n",
      "p          5\n",
      "s          4\n",
      "a          4\n",
      "z          3\n",
      "x          3\n",
      "y          2\n",
      "m          2\n",
      "o          2\n",
      "i          2\n",
      "b          2\n",
      "k          1\n",
      "u          1\n",
      "w          1\n",
      "Name: count, dtype: int64\n",
      "\n",
      "\n",
      "Column: ring-type\n",
      "ring-type\n",
      "f         1736395\n",
      "e           80348\n",
      "z           75917\n",
      "l           48847\n",
      "p           45654\n",
      "r           45400\n",
      "g           42472\n",
      "m            2689\n",
      "t              46\n",
      "d              24\n",
      "x              21\n",
      "w              17\n",
      "n              16\n",
      "y              16\n",
      "u              14\n",
      "a              13\n",
      "c              13\n",
      "s              12\n",
      "b              12\n",
      "o               9\n",
      "h               5\n",
      "i               4\n",
      "k               4\n",
      "season          1\n",
      "Name: count, dtype: int64\n",
      "\n",
      "\n",
      "Column: habitat\n",
      "habitat\n",
      "d          1450445\n",
      "g           304300\n",
      "l           114458\n",
      "m           101258\n",
      "h            80032\n",
      "w            12324\n",
      "p            11429\n",
      "u             3434\n",
      "s               39\n",
      "t               35\n",
      "n               29\n",
      "e               24\n",
      "r               21\n",
      "k               19\n",
      "c               18\n",
      "a               17\n",
      "b               11\n",
      "y               10\n",
      "f                9\n",
      "x                8\n",
      "habitat          7\n",
      "o                7\n",
      "class            5\n",
      "i                5\n",
      "z                1\n",
      "Name: count, dtype: int64\n",
      "\n",
      "\n",
      "Column: season\n",
      "season\n",
      "a    1029085\n",
      "u     768267\n",
      "w     185975\n",
      "s      94637\n",
      "Name: count, dtype: int64\n",
      "\n",
      "\n"
     ]
    }
   ],
   "source": [
    "for column in test_categorical_cols:\n",
    "    print(f\"Column: {column}\")\n",
    "    print(test_data[column].value_counts())\n",
    "    print(\"\\n\")\n"
   ]
  },
  {
   "cell_type": "code",
   "execution_count": 47,
   "metadata": {},
   "outputs": [
    {
     "data": {
      "text/plain": [
       "class                    2\n",
       "cap-shape               23\n",
       "cap-surface             25\n",
       "cap-color               25\n",
       "does-bruise-or-bleed    22\n",
       "gill-attachment         25\n",
       "gill-spacing            20\n",
       "gill-color              27\n",
       "stem-color              24\n",
       "has-ring                21\n",
       "ring-type               26\n",
       "habitat                 25\n",
       "season                   4\n",
       "dtype: int64"
      ]
     },
     "execution_count": 47,
     "metadata": {},
     "output_type": "execute_result"
    }
   ],
   "source": [
    "train_data[categorical_cols].nunique()"
   ]
  },
  {
   "cell_type": "code",
   "execution_count": 48,
   "metadata": {},
   "outputs": [],
   "source": [
    "# plt.figure(figsize=(25, 25))\n",
    "\n",
    "# for i, feature in enumerate(categorical_cols):\n",
    "#     plt.subplot((len(categorical_cols) + 1) // 2, 2, i + 1) \n",
    "#     sns.countplot(data=train_data, x=feature) \n",
    "#     plt.title(f'Distribution of {feature} by Class')\n",
    "#     plt.xlabel(feature)\n",
    "#     plt.ylabel('Count')\n",
    "\n",
    "# plt.tight_layout()\n",
    "# plt.show()\n"
   ]
  },
  {
   "cell_type": "code",
   "execution_count": 49,
   "metadata": {},
   "outputs": [],
   "source": [
    "# # correlation with class and categorical feature\n",
    "\n",
    "# plt.figure(figsize=(25, 25))\n",
    "\n",
    "# for i, feature in enumerate(categorical_cols):\n",
    "#     plt.subplot((len(categorical_cols) + 1) // 2, 2, i + 1)  \n",
    "#     sns.countplot(data=train_data, x=feature, hue='class') \n",
    "#     plt.title(f'Distribution of {feature} by Class')\n",
    "#     plt.xlabel(feature)\n",
    "#     plt.ylabel('Count')\n",
    "\n",
    "# plt.tight_layout()\n",
    "# plt.show()\n"
   ]
  },
  {
   "cell_type": "markdown",
   "metadata": {},
   "source": [
    "**Feature Engineering**\n"
   ]
  },
  {
   "cell_type": "code",
   "execution_count": 50,
   "metadata": {},
   "outputs": [],
   "source": [
    "numerical_columns = ['cap-diameter', 'stem-height', 'stem-width']\n",
    "\n",
    "categorical_columns = ['cap-shape', 'cap-surface', 'cap-color','does-bruise-or-bleed', 'gill-attachment'\n",
    "                      ,'gill-spacing','gill-color','stem-color','has-ring','ring-type','habitat','season'] "
   ]
  },
  {
   "cell_type": "code",
   "execution_count": 51,
   "metadata": {},
   "outputs": [],
   "source": [
    "scaler = StandardScaler()\n"
   ]
  },
  {
   "cell_type": "code",
   "execution_count": 52,
   "metadata": {},
   "outputs": [],
   "source": [
    "from sklearn.pipeline import Pipeline\n",
    "from sklearn.compose import ColumnTransformer"
   ]
  },
  {
   "cell_type": "code",
   "execution_count": 53,
   "metadata": {},
   "outputs": [],
   "source": [
    "ohe = OneHotEncoder(drop='first', sparse_output=False,handle_unknown='ignore')  \n",
    "\n"
   ]
  },
  {
   "cell_type": "code",
   "execution_count": 54,
   "metadata": {},
   "outputs": [],
   "source": [
    "# ColumnTransformer to apply the transformations\n",
    "preprocessor = ColumnTransformer(\n",
    "    transformers=[\n",
    "        ('num', scaler, numerical_columns),\n",
    "        ('cat', ohe, categorical_columns)\n",
    "    ]\n",
    ")"
   ]
  },
  {
   "cell_type": "code",
   "execution_count": 55,
   "metadata": {},
   "outputs": [],
   "source": [
    "from sklearn.decomposition import PCA\n",
    "from sklearn.linear_model import LogisticRegression\n"
   ]
  },
  {
   "cell_type": "code",
   "execution_count": 68,
   "metadata": {},
   "outputs": [],
   "source": [
    "# model_pipeline = Pipeline(steps=[\n",
    "#     ('preprocessor', preprocessor),\n",
    "#     ('classifier', LogisticRegression(penalty='l2'))\n",
    "# ])"
   ]
  },
  {
   "cell_type": "code",
   "execution_count": 57,
   "metadata": {},
   "outputs": [],
   "source": [
    "model_pipeline = Pipeline(steps=[\n",
    "    ('preprocessor', preprocessor),\n",
    "    ('pca', PCA(n_components=10)), \n",
    "    ('classifier', RandomForestClassifier(n_estimators=20, random_state=42))\n",
    "])"
   ]
  },
  {
   "cell_type": "code",
   "execution_count": 58,
   "metadata": {},
   "outputs": [],
   "source": [
    "# model_pipeline = Pipeline(steps=[\n",
    "#     ('preprocessor', preprocessor),\n",
    "#     ('classifier', RandomForestClassifier(n_estimators=20, random_state=42))\n",
    "# ])"
   ]
  },
  {
   "cell_type": "markdown",
   "metadata": {},
   "source": [
    "stacking algotithm"
   ]
  },
  {
   "cell_type": "code",
   "execution_count": 59,
   "metadata": {},
   "outputs": [],
   "source": [
    "# it will take more time to train model ,\n",
    "# for run this code require GPU\n",
    "\n",
    "base_models = [\n",
    "    ('rf', RandomForestClassifier(n_estimators=10, random_state=42)),  # Reduced n_estimators\n",
    "    ('gb', GradientBoostingClassifier(n_estimators=10, random_state=42)),  # Reduced n_estimators\n",
    "    ('svm', SVC(probability=True, kernel='linear', random_state=42)),  # Linear kernel for efficiency\n",
    "    ('knn', KNeighborsClassifier(n_neighbors=3))  # Reduced neighbors\n",
    "]\n",
    "\n",
    "# Meta model\n",
    "meta_model = LogisticRegression()\n",
    "\n",
    "# Stacking model\n",
    "stacking_model = StackingClassifier(\n",
    "    estimators=base_models,\n",
    "    final_estimator=meta_model,\n",
    "    cv=5,\n",
    "    n_jobs=-1\n",
    ")\n",
    "\n",
    "# Build the pipeline (staking)\n",
    "stack_model_pipeline = Pipeline(steps=[\n",
    "    ('preprocessor', preprocessor),\n",
    "    ('stacking', stacking_model)\n",
    "])"
   ]
  },
  {
   "cell_type": "code",
   "execution_count": 60,
   "metadata": {},
   "outputs": [],
   "source": [
    "from sklearn.ensemble import VotingClassifier\n",
    "\n",
    "# VotingClassifier instead of StackingClassifier\n",
    "voting_model = VotingClassifier(\n",
    "    estimators=base_models,\n",
    "    voting='soft',  # Soft voting for probabilities\n",
    "    n_jobs=-1\n",
    ")\n",
    "\n",
    "# Pipeline\n",
    "voting_model_pipeline = Pipeline(steps=[\n",
    "    ('preprocessor', preprocessor),\n",
    "    ('voting', voting_model)\n",
    "])\n"
   ]
  },
  {
   "cell_type": "code",
   "execution_count": 69,
   "metadata": {},
   "outputs": [],
   "source": [
    "# prepare the data\n",
    "X = train_data.drop(['class'], axis=1)\n",
    "y = train_data['class']"
   ]
  },
  {
   "cell_type": "code",
   "execution_count": 70,
   "metadata": {},
   "outputs": [],
   "source": [
    "# Encode the target variable\n",
    "Label_encodeing = LabelEncoder()\n",
    "y = Label_encodeing.fit_transform(y)\n"
   ]
  },
  {
   "cell_type": "code",
   "execution_count": 71,
   "metadata": {},
   "outputs": [],
   "source": [
    "# Train-test split\n",
    "X_train, X_test, y_train, y_test = train_test_split(X, y, test_size=0.2, random_state=42)\n"
   ]
  },
  {
   "cell_type": "code",
   "execution_count": 72,
   "metadata": {},
   "outputs": [
    {
     "data": {
      "text/html": [
       "<div>\n",
       "<style scoped>\n",
       "    .dataframe tbody tr th:only-of-type {\n",
       "        vertical-align: middle;\n",
       "    }\n",
       "\n",
       "    .dataframe tbody tr th {\n",
       "        vertical-align: top;\n",
       "    }\n",
       "\n",
       "    .dataframe thead th {\n",
       "        text-align: right;\n",
       "    }\n",
       "</style>\n",
       "<table border=\"1\" class=\"dataframe\">\n",
       "  <thead>\n",
       "    <tr style=\"text-align: right;\">\n",
       "      <th></th>\n",
       "      <th>id</th>\n",
       "      <th>cap-diameter</th>\n",
       "      <th>cap-shape</th>\n",
       "      <th>cap-surface</th>\n",
       "      <th>cap-color</th>\n",
       "      <th>does-bruise-or-bleed</th>\n",
       "      <th>gill-attachment</th>\n",
       "      <th>gill-spacing</th>\n",
       "      <th>gill-color</th>\n",
       "      <th>stem-height</th>\n",
       "      <th>stem-width</th>\n",
       "      <th>stem-color</th>\n",
       "      <th>has-ring</th>\n",
       "      <th>ring-type</th>\n",
       "      <th>habitat</th>\n",
       "      <th>season</th>\n",
       "    </tr>\n",
       "  </thead>\n",
       "  <tbody>\n",
       "    <tr>\n",
       "      <th>1252551</th>\n",
       "      <td>1252551</td>\n",
       "      <td>2.58</td>\n",
       "      <td>s</td>\n",
       "      <td>w</td>\n",
       "      <td>n</td>\n",
       "      <td>t</td>\n",
       "      <td>d</td>\n",
       "      <td>c</td>\n",
       "      <td>n</td>\n",
       "      <td>2.87</td>\n",
       "      <td>5.69</td>\n",
       "      <td>n</td>\n",
       "      <td>f</td>\n",
       "      <td>f</td>\n",
       "      <td>d</td>\n",
       "      <td>a</td>\n",
       "    </tr>\n",
       "    <tr>\n",
       "      <th>1799166</th>\n",
       "      <td>1799166</td>\n",
       "      <td>1.83</td>\n",
       "      <td>b</td>\n",
       "      <td>g</td>\n",
       "      <td>o</td>\n",
       "      <td>f</td>\n",
       "      <td>a</td>\n",
       "      <td>c</td>\n",
       "      <td>n</td>\n",
       "      <td>5.36</td>\n",
       "      <td>2.70</td>\n",
       "      <td>n</td>\n",
       "      <td>f</td>\n",
       "      <td>f</td>\n",
       "      <td>m</td>\n",
       "      <td>a</td>\n",
       "    </tr>\n",
       "    <tr>\n",
       "      <th>1936146</th>\n",
       "      <td>1936146</td>\n",
       "      <td>5.22</td>\n",
       "      <td>x</td>\n",
       "      <td>i</td>\n",
       "      <td>o</td>\n",
       "      <td>f</td>\n",
       "      <td>e</td>\n",
       "      <td>c</td>\n",
       "      <td>y</td>\n",
       "      <td>7.32</td>\n",
       "      <td>7.41</td>\n",
       "      <td>k</td>\n",
       "      <td>f</td>\n",
       "      <td>f</td>\n",
       "      <td>m</td>\n",
       "      <td>a</td>\n",
       "    </tr>\n",
       "    <tr>\n",
       "      <th>1464811</th>\n",
       "      <td>1464811</td>\n",
       "      <td>4.52</td>\n",
       "      <td>f</td>\n",
       "      <td>t</td>\n",
       "      <td>y</td>\n",
       "      <td>f</td>\n",
       "      <td>s</td>\n",
       "      <td>d</td>\n",
       "      <td>y</td>\n",
       "      <td>5.85</td>\n",
       "      <td>12.74</td>\n",
       "      <td>y</td>\n",
       "      <td>f</td>\n",
       "      <td>f</td>\n",
       "      <td>d</td>\n",
       "      <td>a</td>\n",
       "    </tr>\n",
       "    <tr>\n",
       "      <th>767639</th>\n",
       "      <td>767639</td>\n",
       "      <td>6.18</td>\n",
       "      <td>f</td>\n",
       "      <td>t</td>\n",
       "      <td>n</td>\n",
       "      <td>f</td>\n",
       "      <td>d</td>\n",
       "      <td>c</td>\n",
       "      <td>y</td>\n",
       "      <td>6.33</td>\n",
       "      <td>10.29</td>\n",
       "      <td>n</td>\n",
       "      <td>f</td>\n",
       "      <td>f</td>\n",
       "      <td>l</td>\n",
       "      <td>w</td>\n",
       "    </tr>\n",
       "  </tbody>\n",
       "</table>\n",
       "</div>"
      ],
      "text/plain": [
       "              id  cap-diameter cap-shape cap-surface cap-color  \\\n",
       "1252551  1252551          2.58         s           w         n   \n",
       "1799166  1799166          1.83         b           g         o   \n",
       "1936146  1936146          5.22         x           i         o   \n",
       "1464811  1464811          4.52         f           t         y   \n",
       "767639    767639          6.18         f           t         n   \n",
       "\n",
       "        does-bruise-or-bleed gill-attachment gill-spacing gill-color  \\\n",
       "1252551                    t               d            c          n   \n",
       "1799166                    f               a            c          n   \n",
       "1936146                    f               e            c          y   \n",
       "1464811                    f               s            d          y   \n",
       "767639                     f               d            c          y   \n",
       "\n",
       "         stem-height  stem-width stem-color has-ring ring-type habitat season  \n",
       "1252551         2.87        5.69          n        f         f       d      a  \n",
       "1799166         5.36        2.70          n        f         f       m      a  \n",
       "1936146         7.32        7.41          k        f         f       m      a  \n",
       "1464811         5.85       12.74          y        f         f       d      a  \n",
       "767639          6.33       10.29          n        f         f       l      w  "
      ]
     },
     "execution_count": 72,
     "metadata": {},
     "output_type": "execute_result"
    }
   ],
   "source": [
    "X_train.head()"
   ]
  },
  {
   "cell_type": "code",
   "execution_count": 65,
   "metadata": {},
   "outputs": [],
   "source": [
    "# stack_model_pipeline.fit(X_train,y_train)"
   ]
  },
  {
   "cell_type": "code",
   "execution_count": 66,
   "metadata": {},
   "outputs": [],
   "source": [
    "# voting_model_pipeline.fit(X_train, y_train)"
   ]
  },
  {
   "cell_type": "code",
   "execution_count": 73,
   "metadata": {},
   "outputs": [
    {
     "ename": "MemoryError",
     "evalue": "Unable to allocate 4.90 GiB for an array with shape (2493556, 264) and data type float64",
     "output_type": "error",
     "traceback": [
      "\u001b[1;31m---------------------------------------------------------------------------\u001b[0m",
      "\u001b[1;31mMemoryError\u001b[0m                               Traceback (most recent call last)",
      "Cell \u001b[1;32mIn[73], line 2\u001b[0m\n\u001b[0;32m      1\u001b[0m \u001b[38;5;66;03m# # train the model\u001b[39;00m\n\u001b[1;32m----> 2\u001b[0m \u001b[43mmodel_pipeline\u001b[49m\u001b[38;5;241;43m.\u001b[39;49m\u001b[43mfit\u001b[49m\u001b[43m(\u001b[49m\u001b[43mX_train\u001b[49m\u001b[43m,\u001b[49m\u001b[43m \u001b[49m\u001b[43my_train\u001b[49m\u001b[43m)\u001b[49m\n",
      "File \u001b[1;32mc:\\Users\\Admin\\AppData\\Local\\Programs\\Python\\Python312\\Lib\\site-packages\\sklearn\\base.py:1473\u001b[0m, in \u001b[0;36m_fit_context.<locals>.decorator.<locals>.wrapper\u001b[1;34m(estimator, *args, **kwargs)\u001b[0m\n\u001b[0;32m   1466\u001b[0m     estimator\u001b[38;5;241m.\u001b[39m_validate_params()\n\u001b[0;32m   1468\u001b[0m \u001b[38;5;28;01mwith\u001b[39;00m config_context(\n\u001b[0;32m   1469\u001b[0m     skip_parameter_validation\u001b[38;5;241m=\u001b[39m(\n\u001b[0;32m   1470\u001b[0m         prefer_skip_nested_validation \u001b[38;5;129;01mor\u001b[39;00m global_skip_validation\n\u001b[0;32m   1471\u001b[0m     )\n\u001b[0;32m   1472\u001b[0m ):\n\u001b[1;32m-> 1473\u001b[0m     \u001b[38;5;28;01mreturn\u001b[39;00m \u001b[43mfit_method\u001b[49m\u001b[43m(\u001b[49m\u001b[43mestimator\u001b[49m\u001b[43m,\u001b[49m\u001b[43m \u001b[49m\u001b[38;5;241;43m*\u001b[39;49m\u001b[43margs\u001b[49m\u001b[43m,\u001b[49m\u001b[43m \u001b[49m\u001b[38;5;241;43m*\u001b[39;49m\u001b[38;5;241;43m*\u001b[39;49m\u001b[43mkwargs\u001b[49m\u001b[43m)\u001b[49m\n",
      "File \u001b[1;32mc:\\Users\\Admin\\AppData\\Local\\Programs\\Python\\Python312\\Lib\\site-packages\\sklearn\\pipeline.py:469\u001b[0m, in \u001b[0;36mPipeline.fit\u001b[1;34m(self, X, y, **params)\u001b[0m\n\u001b[0;32m    426\u001b[0m \u001b[38;5;250m\u001b[39m\u001b[38;5;124;03m\"\"\"Fit the model.\u001b[39;00m\n\u001b[0;32m    427\u001b[0m \n\u001b[0;32m    428\u001b[0m \u001b[38;5;124;03mFit all the transformers one after the other and sequentially transform the\u001b[39;00m\n\u001b[1;32m   (...)\u001b[0m\n\u001b[0;32m    466\u001b[0m \u001b[38;5;124;03m    Pipeline with fitted steps.\u001b[39;00m\n\u001b[0;32m    467\u001b[0m \u001b[38;5;124;03m\"\"\"\u001b[39;00m\n\u001b[0;32m    468\u001b[0m routed_params \u001b[38;5;241m=\u001b[39m \u001b[38;5;28mself\u001b[39m\u001b[38;5;241m.\u001b[39m_check_method_params(method\u001b[38;5;241m=\u001b[39m\u001b[38;5;124m\"\u001b[39m\u001b[38;5;124mfit\u001b[39m\u001b[38;5;124m\"\u001b[39m, props\u001b[38;5;241m=\u001b[39mparams)\n\u001b[1;32m--> 469\u001b[0m Xt \u001b[38;5;241m=\u001b[39m \u001b[38;5;28;43mself\u001b[39;49m\u001b[38;5;241;43m.\u001b[39;49m\u001b[43m_fit\u001b[49m\u001b[43m(\u001b[49m\u001b[43mX\u001b[49m\u001b[43m,\u001b[49m\u001b[43m \u001b[49m\u001b[43my\u001b[49m\u001b[43m,\u001b[49m\u001b[43m \u001b[49m\u001b[43mrouted_params\u001b[49m\u001b[43m)\u001b[49m\n\u001b[0;32m    470\u001b[0m \u001b[38;5;28;01mwith\u001b[39;00m _print_elapsed_time(\u001b[38;5;124m\"\u001b[39m\u001b[38;5;124mPipeline\u001b[39m\u001b[38;5;124m\"\u001b[39m, \u001b[38;5;28mself\u001b[39m\u001b[38;5;241m.\u001b[39m_log_message(\u001b[38;5;28mlen\u001b[39m(\u001b[38;5;28mself\u001b[39m\u001b[38;5;241m.\u001b[39msteps) \u001b[38;5;241m-\u001b[39m \u001b[38;5;241m1\u001b[39m)):\n\u001b[0;32m    471\u001b[0m     \u001b[38;5;28;01mif\u001b[39;00m \u001b[38;5;28mself\u001b[39m\u001b[38;5;241m.\u001b[39m_final_estimator \u001b[38;5;241m!=\u001b[39m \u001b[38;5;124m\"\u001b[39m\u001b[38;5;124mpassthrough\u001b[39m\u001b[38;5;124m\"\u001b[39m:\n",
      "File \u001b[1;32mc:\\Users\\Admin\\AppData\\Local\\Programs\\Python\\Python312\\Lib\\site-packages\\sklearn\\pipeline.py:406\u001b[0m, in \u001b[0;36mPipeline._fit\u001b[1;34m(self, X, y, routed_params)\u001b[0m\n\u001b[0;32m    404\u001b[0m     cloned_transformer \u001b[38;5;241m=\u001b[39m clone(transformer)\n\u001b[0;32m    405\u001b[0m \u001b[38;5;66;03m# Fit or load from cache the current transformer\u001b[39;00m\n\u001b[1;32m--> 406\u001b[0m X, fitted_transformer \u001b[38;5;241m=\u001b[39m \u001b[43mfit_transform_one_cached\u001b[49m\u001b[43m(\u001b[49m\n\u001b[0;32m    407\u001b[0m \u001b[43m    \u001b[49m\u001b[43mcloned_transformer\u001b[49m\u001b[43m,\u001b[49m\n\u001b[0;32m    408\u001b[0m \u001b[43m    \u001b[49m\u001b[43mX\u001b[49m\u001b[43m,\u001b[49m\n\u001b[0;32m    409\u001b[0m \u001b[43m    \u001b[49m\u001b[43my\u001b[49m\u001b[43m,\u001b[49m\n\u001b[0;32m    410\u001b[0m \u001b[43m    \u001b[49m\u001b[38;5;28;43;01mNone\u001b[39;49;00m\u001b[43m,\u001b[49m\n\u001b[0;32m    411\u001b[0m \u001b[43m    \u001b[49m\u001b[43mmessage_clsname\u001b[49m\u001b[38;5;241;43m=\u001b[39;49m\u001b[38;5;124;43m\"\u001b[39;49m\u001b[38;5;124;43mPipeline\u001b[39;49m\u001b[38;5;124;43m\"\u001b[39;49m\u001b[43m,\u001b[49m\n\u001b[0;32m    412\u001b[0m \u001b[43m    \u001b[49m\u001b[43mmessage\u001b[49m\u001b[38;5;241;43m=\u001b[39;49m\u001b[38;5;28;43mself\u001b[39;49m\u001b[38;5;241;43m.\u001b[39;49m\u001b[43m_log_message\u001b[49m\u001b[43m(\u001b[49m\u001b[43mstep_idx\u001b[49m\u001b[43m)\u001b[49m\u001b[43m,\u001b[49m\n\u001b[0;32m    413\u001b[0m \u001b[43m    \u001b[49m\u001b[43mparams\u001b[49m\u001b[38;5;241;43m=\u001b[39;49m\u001b[43mrouted_params\u001b[49m\u001b[43m[\u001b[49m\u001b[43mname\u001b[49m\u001b[43m]\u001b[49m\u001b[43m,\u001b[49m\n\u001b[0;32m    414\u001b[0m \u001b[43m\u001b[49m\u001b[43m)\u001b[49m\n\u001b[0;32m    415\u001b[0m \u001b[38;5;66;03m# Replace the transformer of the step with the fitted\u001b[39;00m\n\u001b[0;32m    416\u001b[0m \u001b[38;5;66;03m# transformer. This is necessary when loading the transformer\u001b[39;00m\n\u001b[0;32m    417\u001b[0m \u001b[38;5;66;03m# from the cache.\u001b[39;00m\n\u001b[0;32m    418\u001b[0m \u001b[38;5;28mself\u001b[39m\u001b[38;5;241m.\u001b[39msteps[step_idx] \u001b[38;5;241m=\u001b[39m (name, fitted_transformer)\n",
      "File \u001b[1;32mc:\\Users\\Admin\\AppData\\Local\\Programs\\Python\\Python312\\Lib\\site-packages\\joblib\\memory.py:312\u001b[0m, in \u001b[0;36mNotMemorizedFunc.__call__\u001b[1;34m(self, *args, **kwargs)\u001b[0m\n\u001b[0;32m    311\u001b[0m \u001b[38;5;28;01mdef\u001b[39;00m \u001b[38;5;21m__call__\u001b[39m(\u001b[38;5;28mself\u001b[39m, \u001b[38;5;241m*\u001b[39margs, \u001b[38;5;241m*\u001b[39m\u001b[38;5;241m*\u001b[39mkwargs):\n\u001b[1;32m--> 312\u001b[0m     \u001b[38;5;28;01mreturn\u001b[39;00m \u001b[38;5;28;43mself\u001b[39;49m\u001b[38;5;241;43m.\u001b[39;49m\u001b[43mfunc\u001b[49m\u001b[43m(\u001b[49m\u001b[38;5;241;43m*\u001b[39;49m\u001b[43margs\u001b[49m\u001b[43m,\u001b[49m\u001b[43m \u001b[49m\u001b[38;5;241;43m*\u001b[39;49m\u001b[38;5;241;43m*\u001b[39;49m\u001b[43mkwargs\u001b[49m\u001b[43m)\u001b[49m\n",
      "File \u001b[1;32mc:\\Users\\Admin\\AppData\\Local\\Programs\\Python\\Python312\\Lib\\site-packages\\sklearn\\pipeline.py:1310\u001b[0m, in \u001b[0;36m_fit_transform_one\u001b[1;34m(transformer, X, y, weight, message_clsname, message, params)\u001b[0m\n\u001b[0;32m   1308\u001b[0m \u001b[38;5;28;01mwith\u001b[39;00m _print_elapsed_time(message_clsname, message):\n\u001b[0;32m   1309\u001b[0m     \u001b[38;5;28;01mif\u001b[39;00m \u001b[38;5;28mhasattr\u001b[39m(transformer, \u001b[38;5;124m\"\u001b[39m\u001b[38;5;124mfit_transform\u001b[39m\u001b[38;5;124m\"\u001b[39m):\n\u001b[1;32m-> 1310\u001b[0m         res \u001b[38;5;241m=\u001b[39m \u001b[43mtransformer\u001b[49m\u001b[38;5;241;43m.\u001b[39;49m\u001b[43mfit_transform\u001b[49m\u001b[43m(\u001b[49m\u001b[43mX\u001b[49m\u001b[43m,\u001b[49m\u001b[43m \u001b[49m\u001b[43my\u001b[49m\u001b[43m,\u001b[49m\u001b[43m \u001b[49m\u001b[38;5;241;43m*\u001b[39;49m\u001b[38;5;241;43m*\u001b[39;49m\u001b[43mparams\u001b[49m\u001b[38;5;241;43m.\u001b[39;49m\u001b[43mget\u001b[49m\u001b[43m(\u001b[49m\u001b[38;5;124;43m\"\u001b[39;49m\u001b[38;5;124;43mfit_transform\u001b[39;49m\u001b[38;5;124;43m\"\u001b[39;49m\u001b[43m,\u001b[49m\u001b[43m \u001b[49m\u001b[43m{\u001b[49m\u001b[43m}\u001b[49m\u001b[43m)\u001b[49m\u001b[43m)\u001b[49m\n\u001b[0;32m   1311\u001b[0m     \u001b[38;5;28;01melse\u001b[39;00m:\n\u001b[0;32m   1312\u001b[0m         res \u001b[38;5;241m=\u001b[39m transformer\u001b[38;5;241m.\u001b[39mfit(X, y, \u001b[38;5;241m*\u001b[39m\u001b[38;5;241m*\u001b[39mparams\u001b[38;5;241m.\u001b[39mget(\u001b[38;5;124m\"\u001b[39m\u001b[38;5;124mfit\u001b[39m\u001b[38;5;124m\"\u001b[39m, {}))\u001b[38;5;241m.\u001b[39mtransform(\n\u001b[0;32m   1313\u001b[0m             X, \u001b[38;5;241m*\u001b[39m\u001b[38;5;241m*\u001b[39mparams\u001b[38;5;241m.\u001b[39mget(\u001b[38;5;124m\"\u001b[39m\u001b[38;5;124mtransform\u001b[39m\u001b[38;5;124m\"\u001b[39m, {})\n\u001b[0;32m   1314\u001b[0m         )\n",
      "File \u001b[1;32mc:\\Users\\Admin\\AppData\\Local\\Programs\\Python\\Python312\\Lib\\site-packages\\sklearn\\utils\\_set_output.py:313\u001b[0m, in \u001b[0;36m_wrap_method_output.<locals>.wrapped\u001b[1;34m(self, X, *args, **kwargs)\u001b[0m\n\u001b[0;32m    311\u001b[0m \u001b[38;5;129m@wraps\u001b[39m(f)\n\u001b[0;32m    312\u001b[0m \u001b[38;5;28;01mdef\u001b[39;00m \u001b[38;5;21mwrapped\u001b[39m(\u001b[38;5;28mself\u001b[39m, X, \u001b[38;5;241m*\u001b[39margs, \u001b[38;5;241m*\u001b[39m\u001b[38;5;241m*\u001b[39mkwargs):\n\u001b[1;32m--> 313\u001b[0m     data_to_wrap \u001b[38;5;241m=\u001b[39m \u001b[43mf\u001b[49m\u001b[43m(\u001b[49m\u001b[38;5;28;43mself\u001b[39;49m\u001b[43m,\u001b[49m\u001b[43m \u001b[49m\u001b[43mX\u001b[49m\u001b[43m,\u001b[49m\u001b[43m \u001b[49m\u001b[38;5;241;43m*\u001b[39;49m\u001b[43margs\u001b[49m\u001b[43m,\u001b[49m\u001b[43m \u001b[49m\u001b[38;5;241;43m*\u001b[39;49m\u001b[38;5;241;43m*\u001b[39;49m\u001b[43mkwargs\u001b[49m\u001b[43m)\u001b[49m\n\u001b[0;32m    314\u001b[0m     \u001b[38;5;28;01mif\u001b[39;00m \u001b[38;5;28misinstance\u001b[39m(data_to_wrap, \u001b[38;5;28mtuple\u001b[39m):\n\u001b[0;32m    315\u001b[0m         \u001b[38;5;66;03m# only wrap the first output for cross decomposition\u001b[39;00m\n\u001b[0;32m    316\u001b[0m         return_tuple \u001b[38;5;241m=\u001b[39m (\n\u001b[0;32m    317\u001b[0m             _wrap_data_with_container(method, data_to_wrap[\u001b[38;5;241m0\u001b[39m], X, \u001b[38;5;28mself\u001b[39m),\n\u001b[0;32m    318\u001b[0m             \u001b[38;5;241m*\u001b[39mdata_to_wrap[\u001b[38;5;241m1\u001b[39m:],\n\u001b[0;32m    319\u001b[0m         )\n",
      "File \u001b[1;32mc:\\Users\\Admin\\AppData\\Local\\Programs\\Python\\Python312\\Lib\\site-packages\\sklearn\\base.py:1473\u001b[0m, in \u001b[0;36m_fit_context.<locals>.decorator.<locals>.wrapper\u001b[1;34m(estimator, *args, **kwargs)\u001b[0m\n\u001b[0;32m   1466\u001b[0m     estimator\u001b[38;5;241m.\u001b[39m_validate_params()\n\u001b[0;32m   1468\u001b[0m \u001b[38;5;28;01mwith\u001b[39;00m config_context(\n\u001b[0;32m   1469\u001b[0m     skip_parameter_validation\u001b[38;5;241m=\u001b[39m(\n\u001b[0;32m   1470\u001b[0m         prefer_skip_nested_validation \u001b[38;5;129;01mor\u001b[39;00m global_skip_validation\n\u001b[0;32m   1471\u001b[0m     )\n\u001b[0;32m   1472\u001b[0m ):\n\u001b[1;32m-> 1473\u001b[0m     \u001b[38;5;28;01mreturn\u001b[39;00m \u001b[43mfit_method\u001b[49m\u001b[43m(\u001b[49m\u001b[43mestimator\u001b[49m\u001b[43m,\u001b[49m\u001b[43m \u001b[49m\u001b[38;5;241;43m*\u001b[39;49m\u001b[43margs\u001b[49m\u001b[43m,\u001b[49m\u001b[43m \u001b[49m\u001b[38;5;241;43m*\u001b[39;49m\u001b[38;5;241;43m*\u001b[39;49m\u001b[43mkwargs\u001b[49m\u001b[43m)\u001b[49m\n",
      "File \u001b[1;32mc:\\Users\\Admin\\AppData\\Local\\Programs\\Python\\Python312\\Lib\\site-packages\\sklearn\\compose\\_column_transformer.py:1006\u001b[0m, in \u001b[0;36mColumnTransformer.fit_transform\u001b[1;34m(self, X, y, **params)\u001b[0m\n\u001b[0;32m   1003\u001b[0m \u001b[38;5;28mself\u001b[39m\u001b[38;5;241m.\u001b[39m_validate_output(Xs)\n\u001b[0;32m   1004\u001b[0m \u001b[38;5;28mself\u001b[39m\u001b[38;5;241m.\u001b[39m_record_output_indices(Xs)\n\u001b[1;32m-> 1006\u001b[0m \u001b[38;5;28;01mreturn\u001b[39;00m \u001b[38;5;28;43mself\u001b[39;49m\u001b[38;5;241;43m.\u001b[39;49m\u001b[43m_hstack\u001b[49m\u001b[43m(\u001b[49m\u001b[38;5;28;43mlist\u001b[39;49m\u001b[43m(\u001b[49m\u001b[43mXs\u001b[49m\u001b[43m)\u001b[49m\u001b[43m,\u001b[49m\u001b[43m \u001b[49m\u001b[43mn_samples\u001b[49m\u001b[38;5;241;43m=\u001b[39;49m\u001b[43mn_samples\u001b[49m\u001b[43m)\u001b[49m\n",
      "File \u001b[1;32mc:\\Users\\Admin\\AppData\\Local\\Programs\\Python\\Python312\\Lib\\site-packages\\sklearn\\compose\\_column_transformer.py:1200\u001b[0m, in \u001b[0;36mColumnTransformer._hstack\u001b[1;34m(self, Xs, n_samples)\u001b[0m\n\u001b[0;32m   1190\u001b[0m         \u001b[38;5;28;01mraise\u001b[39;00m \u001b[38;5;167;01mValueError\u001b[39;00m(\n\u001b[0;32m   1191\u001b[0m             \u001b[38;5;124m\"\u001b[39m\u001b[38;5;124mConcatenating DataFrames from the transformer\u001b[39m\u001b[38;5;124m'\u001b[39m\u001b[38;5;124ms output lead to\u001b[39m\u001b[38;5;124m\"\u001b[39m\n\u001b[0;32m   1192\u001b[0m             \u001b[38;5;124m\"\u001b[39m\u001b[38;5;124m an inconsistent number of samples. The output may have Pandas\u001b[39m\u001b[38;5;124m\"\u001b[39m\n\u001b[1;32m   (...)\u001b[0m\n\u001b[0;32m   1195\u001b[0m             \u001b[38;5;124m\"\u001b[39m\u001b[38;5;124m samples.\u001b[39m\u001b[38;5;124m\"\u001b[39m\n\u001b[0;32m   1196\u001b[0m         )\n\u001b[0;32m   1198\u001b[0m     \u001b[38;5;28;01mreturn\u001b[39;00m output\n\u001b[1;32m-> 1200\u001b[0m \u001b[38;5;28;01mreturn\u001b[39;00m \u001b[43mnp\u001b[49m\u001b[38;5;241;43m.\u001b[39;49m\u001b[43mhstack\u001b[49m\u001b[43m(\u001b[49m\u001b[43mXs\u001b[49m\u001b[43m)\u001b[49m\n",
      "File \u001b[1;32mc:\\Users\\Admin\\AppData\\Local\\Programs\\Python\\Python312\\Lib\\site-packages\\numpy\\core\\shape_base.py:359\u001b[0m, in \u001b[0;36mhstack\u001b[1;34m(tup, dtype, casting)\u001b[0m\n\u001b[0;32m    357\u001b[0m     \u001b[38;5;28;01mreturn\u001b[39;00m _nx\u001b[38;5;241m.\u001b[39mconcatenate(arrs, \u001b[38;5;241m0\u001b[39m, dtype\u001b[38;5;241m=\u001b[39mdtype, casting\u001b[38;5;241m=\u001b[39mcasting)\n\u001b[0;32m    358\u001b[0m \u001b[38;5;28;01melse\u001b[39;00m:\n\u001b[1;32m--> 359\u001b[0m     \u001b[38;5;28;01mreturn\u001b[39;00m \u001b[43m_nx\u001b[49m\u001b[38;5;241;43m.\u001b[39;49m\u001b[43mconcatenate\u001b[49m\u001b[43m(\u001b[49m\u001b[43marrs\u001b[49m\u001b[43m,\u001b[49m\u001b[43m \u001b[49m\u001b[38;5;241;43m1\u001b[39;49m\u001b[43m,\u001b[49m\u001b[43m \u001b[49m\u001b[43mdtype\u001b[49m\u001b[38;5;241;43m=\u001b[39;49m\u001b[43mdtype\u001b[49m\u001b[43m,\u001b[49m\u001b[43m \u001b[49m\u001b[43mcasting\u001b[49m\u001b[38;5;241;43m=\u001b[39;49m\u001b[43mcasting\u001b[49m\u001b[43m)\u001b[49m\n",
      "\u001b[1;31mMemoryError\u001b[0m: Unable to allocate 4.90 GiB for an array with shape (2493556, 264) and data type float64"
     ]
    }
   ],
   "source": [
    "# # train the model\n",
    "model_pipeline.fit(X_train, y_train)\n"
   ]
  },
  {
   "cell_type": "code",
   "execution_count": null,
   "metadata": {},
   "outputs": [
    {
     "name": "stdout",
     "output_type": "stream",
     "text": [
      "Requirement already satisfied: lightgbm in c:\\users\\admin\\appdata\\local\\programs\\python\\python312\\lib\\site-packages (4.5.0)\n",
      "Requirement already satisfied: numpy>=1.17.0 in c:\\users\\admin\\appdata\\local\\programs\\python\\python312\\lib\\site-packages (from lightgbm) (1.26.4)\n",
      "Requirement already satisfied: scipy in c:\\users\\admin\\appdata\\local\\programs\\python\\python312\\lib\\site-packages (from lightgbm) (1.14.0)\n",
      "Note: you may need to restart the kernel to use updated packages.\n"
     ]
    },
    {
     "name": "stderr",
     "output_type": "stream",
     "text": [
      "\n",
      "[notice] A new release of pip is available: 24.0 -> 24.2\n",
      "[notice] To update, run: python.exe -m pip install --upgrade pip\n"
     ]
    }
   ],
   "source": [
    "# pip install lightgbm\n"
   ]
  },
  {
   "cell_type": "code",
   "execution_count": null,
   "metadata": {},
   "outputs": [],
   "source": [
    "# import lightgbm as lgb\n",
    "# from sklearn.pipeline import Pipeline\n",
    "\n",
    "# # LightGBM Model\n",
    "# lgb_model = lgb.LGBMClassifier(\n",
    "#     n_estimators=100,\n",
    "#     random_state=42\n",
    "# )\n",
    "\n",
    "# # Pipeline\n",
    "# lgb_model_pipeline = Pipeline(steps=[\n",
    "#     ('preprocessor', preprocessor),\n",
    "#     ('classifier', lgb_model)\n",
    "# ])\n",
    "\n",
    "# # Fit the model\n",
    "# lgb_model_pipeline.fit(X_train, y_train)\n"
   ]
  },
  {
   "cell_type": "code",
   "execution_count": null,
   "metadata": {},
   "outputs": [
    {
     "data": {
      "text/plain": [
       "0.9992231977144287"
      ]
     },
     "execution_count": 80,
     "metadata": {},
     "output_type": "execute_result"
    }
   ],
   "source": [
    "model_pipeline.score(X_train,y_train)"
   ]
  },
  {
   "cell_type": "code",
   "execution_count": null,
   "metadata": {},
   "outputs": [
    {
     "name": "stderr",
     "output_type": "stream",
     "text": [
      "c:\\Users\\Admin\\AppData\\Local\\Programs\\Python\\Python312\\Lib\\site-packages\\sklearn\\preprocessing\\_encoders.py:242: UserWarning: Found unknown categories in columns [4, 5, 8, 9] during transform. These unknown categories will be encoded as all zeros\n",
      "  warnings.warn(\n"
     ]
    },
    {
     "data": {
      "text/plain": [
       "0.9856975339635444"
      ]
     },
     "execution_count": 81,
     "metadata": {},
     "output_type": "execute_result"
    }
   ],
   "source": [
    "model_pipeline.score(X_test,y_test)"
   ]
  },
  {
   "cell_type": "code",
   "execution_count": null,
   "metadata": {},
   "outputs": [
    {
     "name": "stderr",
     "output_type": "stream",
     "text": [
      "c:\\Users\\Admin\\AppData\\Local\\Programs\\Python\\Python312\\Lib\\site-packages\\sklearn\\preprocessing\\_encoders.py:242: UserWarning: Found unknown categories in columns [4, 5, 8, 9] during transform. These unknown categories will be encoded as all zeros\n",
      "  warnings.warn(\n"
     ]
    }
   ],
   "source": [
    "y_pred = model_pipeline.predict(X_test)\n"
   ]
  },
  {
   "cell_type": "code",
   "execution_count": null,
   "metadata": {},
   "outputs": [
    {
     "name": "stderr",
     "output_type": "stream",
     "text": [
      "c:\\Users\\Admin\\AppData\\Local\\Programs\\Python\\Python312\\Lib\\site-packages\\sklearn\\preprocessing\\_encoders.py:242: UserWarning: Found unknown categories in columns [4, 5, 8, 9] during transform. These unknown categories will be encoded as all zeros\n",
      "  warnings.warn(\n"
     ]
    },
    {
     "name": "stdout",
     "output_type": "stream",
     "text": [
      "Accuracy: 0.9857\n",
      "              precision    recall  f1-score   support\n",
      "\n",
      "           0       0.98      0.99      0.98    282397\n",
      "           1       0.99      0.99      0.99    340992\n",
      "\n",
      "    accuracy                           0.99    623389\n",
      "   macro avg       0.99      0.99      0.99    623389\n",
      "weighted avg       0.99      0.99      0.99    623389\n",
      "\n"
     ]
    }
   ],
   "source": [
    "y_pred = model_pipeline.predict(X_test)\n",
    "print(f\"Accuracy: {accuracy_score(y_test, y_pred):.4f}\")\n",
    "print(classification_report(y_test, y_pred))"
   ]
  },
  {
   "cell_type": "markdown",
   "metadata": {},
   "source": [
    "**Evaluate the model using MCC**\n"
   ]
  },
  {
   "cell_type": "code",
   "execution_count": null,
   "metadata": {},
   "outputs": [],
   "source": [
    "# the MCC score can help determine how well your model is classifying the mushrooms as either edible or poisonous. \n",
    "# Given that MCC accounts for all four confusion matrix categories,it provides a more comprehensive measure than accuracy, especially for imbalanced datasets."
   ]
  },
  {
   "cell_type": "markdown",
   "metadata": {},
   "source": [
    "Matthews Correlation Coefficient (MCC): 0.9805\n"
   ]
  },
  {
   "cell_type": "code",
   "execution_count": null,
   "metadata": {},
   "outputs": [
    {
     "name": "stdout",
     "output_type": "stream",
     "text": [
      "Matthews Correlation Coefficient (MCC): 0.9712\n"
     ]
    }
   ],
   "source": [
    "mcc_score = matthews_corrcoef(y_test, y_pred)\n",
    "print(f\"Matthews Correlation Coefficient (MCC): {mcc_score:.4f}\")\n"
   ]
  },
  {
   "cell_type": "code",
   "execution_count": null,
   "metadata": {},
   "outputs": [
    {
     "data": {
      "image/png": "[encoded data removed]",
      "text/plain": [
       "<Figure size 1000x700 with 2 Axes>"
      ]
     },
     "metadata": {},
     "output_type": "display_data"
    }
   ],
   "source": [
    "def plot_confusion_matrix(y_true, y_pred):\n",
    "    cm = confusion_matrix(y_true, y_pred)\n",
    "    plt.figure(figsize=(10, 7))\n",
    "    sns.heatmap(cm, annot=True, fmt='d', cmap='Blues')\n",
    "    plt.title('Confusion Matrix')\n",
    "    plt.xlabel('Predicted Label')\n",
    "    plt.ylabel('True Label')\n",
    "    plt.show()\n",
    "\n",
    "plot_confusion_matrix(y_test, y_pred)\n"
   ]
  },
  {
   "cell_type": "markdown",
   "metadata": {},
   "source": [
    "**Predict Test_dataframe**"
   ]
  },
  {
   "cell_type": "code",
   "execution_count": null,
   "metadata": {},
   "outputs": [
    {
     "name": "stderr",
     "output_type": "stream",
     "text": [
      "c:\\Users\\Admin\\AppData\\Local\\Programs\\Python\\Python312\\Lib\\site-packages\\sklearn\\preprocessing\\_encoders.py:242: UserWarning: Found unknown categories in columns [1, 2, 3, 4, 5, 7, 8] during transform. These unknown categories will be encoded as all zeros\n",
      "  warnings.warn(\n"
     ]
    }
   ],
   "source": [
    "test_predictions = model_pipeline.predict(test_data)\n"
   ]
  },
  {
   "cell_type": "code",
   "execution_count": null,
   "metadata": {},
   "outputs": [
    {
     "data": {
      "text/plain": [
       "array([0, 1, 1, ..., 1, 0, 0])"
      ]
     },
     "execution_count": 100,
     "metadata": {},
     "output_type": "execute_result"
    }
   ],
   "source": [
    "test_predictions"
   ]
  },
  {
   "cell_type": "code",
   "execution_count": null,
   "metadata": {},
   "outputs": [],
   "source": [
    "test_predictions_class = Label_encodeing.inverse_transform(test_predictions)\n"
   ]
  },
  {
   "cell_type": "code",
   "execution_count": null,
   "metadata": {},
   "outputs": [
    {
     "data": {
      "text/plain": [
       "array(['e', 'p', 'p', ..., 'p', 'e', 'e'], dtype=object)"
      ]
     },
     "execution_count": 102,
     "metadata": {},
     "output_type": "execute_result"
    }
   ],
   "source": [
    "test_predictions_class"
   ]
  },
  {
   "cell_type": "markdown",
   "metadata": {},
   "source": [
    "**Final Submission File**"
   ]
  },
  {
   "cell_type": "code",
   "execution_count": null,
   "metadata": {},
   "outputs": [],
   "source": [
    "# Create a DataFrame for submission\n",
    "sam_data['class'] = test_predictions_class\n"
   ]
  },
  {
   "cell_type": "code",
   "execution_count": null,
   "metadata": {},
   "outputs": [
    {
     "data": {
      "text/html": [
       "<div>\n",
       "<style scoped>\n",
       "    .dataframe tbody tr th:only-of-type {\n",
       "        vertical-align: middle;\n",
       "    }\n",
       "\n",
       "    .dataframe tbody tr th {\n",
       "        vertical-align: top;\n",
       "    }\n",
       "\n",
       "    .dataframe thead th {\n",
       "        text-align: right;\n",
       "    }\n",
       "</style>\n",
       "<table border=\"1\" class=\"dataframe\">\n",
       "  <thead>\n",
       "    <tr style=\"text-align: right;\">\n",
       "      <th></th>\n",
       "      <th>id</th>\n",
       "      <th>class</th>\n",
       "    </tr>\n",
       "  </thead>\n",
       "  <tbody>\n",
       "    <tr>\n",
       "      <th>0</th>\n",
       "      <td>3116945</td>\n",
       "      <td>e</td>\n",
       "    </tr>\n",
       "    <tr>\n",
       "      <th>1</th>\n",
       "      <td>3116946</td>\n",
       "      <td>p</td>\n",
       "    </tr>\n",
       "    <tr>\n",
       "      <th>2</th>\n",
       "      <td>3116947</td>\n",
       "      <td>p</td>\n",
       "    </tr>\n",
       "    <tr>\n",
       "      <th>3</th>\n",
       "      <td>3116948</td>\n",
       "      <td>p</td>\n",
       "    </tr>\n",
       "    <tr>\n",
       "      <th>4</th>\n",
       "      <td>3116949</td>\n",
       "      <td>e</td>\n",
       "    </tr>\n",
       "  </tbody>\n",
       "</table>\n",
       "</div>"
      ],
      "text/plain": [
       "        id class\n",
       "0  3116945     e\n",
       "1  3116946     p\n",
       "2  3116947     p\n",
       "3  3116948     p\n",
       "4  3116949     e"
      ]
     },
     "execution_count": 104,
     "metadata": {},
     "output_type": "execute_result"
    }
   ],
   "source": [
    "sam_data.head()"
   ]
  },
  {
   "cell_type": "code",
   "execution_count": null,
   "metadata": {},
   "outputs": [],
   "source": [
    "# Save the submission file\n",
    "sam_data.to_csv('submission_new.csv', index=False)\n"
   ]
  },
  {
   "cell_type": "code",
   "execution_count": null,
   "metadata": {},
   "outputs": [
    {
     "data": {
      "text/html": [
       "<div>\n",
       "<style scoped>\n",
       "    .dataframe tbody tr th:only-of-type {\n",
       "        vertical-align: middle;\n",
       "    }\n",
       "\n",
       "    .dataframe tbody tr th {\n",
       "        vertical-align: top;\n",
       "    }\n",
       "\n",
       "    .dataframe thead th {\n",
       "        text-align: right;\n",
       "    }\n",
       "</style>\n",
       "<table border=\"1\" class=\"dataframe\">\n",
       "  <thead>\n",
       "    <tr style=\"text-align: right;\">\n",
       "      <th></th>\n",
       "      <th>id</th>\n",
       "      <th>class</th>\n",
       "    </tr>\n",
       "  </thead>\n",
       "  <tbody>\n",
       "    <tr>\n",
       "      <th>0</th>\n",
       "      <td>3116945</td>\n",
       "      <td>e</td>\n",
       "    </tr>\n",
       "    <tr>\n",
       "      <th>1</th>\n",
       "      <td>3116946</td>\n",
       "      <td>p</td>\n",
       "    </tr>\n",
       "    <tr>\n",
       "      <th>2</th>\n",
       "      <td>3116947</td>\n",
       "      <td>p</td>\n",
       "    </tr>\n",
       "    <tr>\n",
       "      <th>3</th>\n",
       "      <td>3116948</td>\n",
       "      <td>p</td>\n",
       "    </tr>\n",
       "    <tr>\n",
       "      <th>4</th>\n",
       "      <td>3116949</td>\n",
       "      <td>e</td>\n",
       "    </tr>\n",
       "  </tbody>\n",
       "</table>\n",
       "</div>"
      ],
      "text/plain": [
       "        id class\n",
       "0  3116945     e\n",
       "1  3116946     p\n",
       "2  3116947     p\n",
       "3  3116948     p\n",
       "4  3116949     e"
      ]
     },
     "execution_count": 106,
     "metadata": {},
     "output_type": "execute_result"
    }
   ],
   "source": [
    "submission = pd.read_csv('submission_new.csv')\n",
    "submission.head()"
   ]
  },
  {
   "cell_type": "code",
   "execution_count": null,
   "metadata": {},
   "outputs": [
    {
     "data": {
      "text/plain": [
       "(2077964, 2)"
      ]
     },
     "execution_count": 95,
     "metadata": {},
     "output_type": "execute_result"
    }
   ],
   "source": [
    "submission.shape"
   ]
  },
  {
   "cell_type": "markdown",
   "metadata": {},
   "source": [
    "**prediction system**"
   ]
  },
  {
   "cell_type": "code",
   "execution_count": null,
   "metadata": {},
   "outputs": [
    {
     "data": {
      "text/plain": [
       "id                        200\n",
       "class                       p\n",
       "cap-diameter             7.95\n",
       "cap-shape                   x\n",
       "cap-surface                 h\n",
       "cap-color                   e\n",
       "does-bruise-or-bleed        f\n",
       "gill-attachment             x\n",
       "gill-spacing                d\n",
       "gill-color                  w\n",
       "stem-height              5.97\n",
       "stem-width              17.52\n",
       "stem-color                  w\n",
       "has-ring                    f\n",
       "ring-type                   f\n",
       "habitat                     d\n",
       "season                      a\n",
       "Name: 200, dtype: object"
      ]
     },
     "execution_count": 96,
     "metadata": {},
     "output_type": "execute_result"
    }
   ],
   "source": [
    "train_data.iloc[200]"
   ]
  },
  {
   "cell_type": "code",
   "execution_count": null,
   "metadata": {},
   "outputs": [],
   "source": [
    "import pandas as pd\n",
    "\n",
    "def predict_mushroom_class_with_input(model_pipeline):\n",
    "    manual_input = {\n",
    "        'cap-diameter': float(input(\"Enter cap diameter (e.g., 5.0): \")),\n",
    "        'cap-shape': input(\"Enter cap shape (e.g., x): \"),\n",
    "        'cap-surface': input(\"Enter cap surface (e.g., s): \"),\n",
    "        'cap-color': input(\"Enter cap color (e.g., n): \"),\n",
    "        'does-bruise-or-bleed': input(\"Does it bruise or bleed? (t/f): \"),\n",
    "        'gill-attachment': input(\"Enter gill attachment (e.g., f): \"),\n",
    "        'gill-spacing': input(\"Enter gill spacing (e.g., c): \"),\n",
    "        'gill-color': input(\"Enter gill color (e.g., k): \"),\n",
    "        'stem-height': float(input(\"Enter stem height (e.g., 6.0): \")),\n",
    "        'stem-width': float(input(\"Enter stem width (e.g., 1.0): \")),\n",
    "        'stem-color': input(\"Enter stem color (e.g., e): \"),\n",
    "        'has-ring': input(\"Does it have a ring? (t/f): \"),\n",
    "        'ring-type': input(\"Enter ring type (e.g., p): \"),\n",
    "        'habitat': input(\"Enter habitat (e.g., d): \"),\n",
    "        'season': input(\"Enter season (e.g., s): \")\n",
    "    }\n",
    "\n",
    "    input_data = pd.DataFrame([manual_input])\n",
    "\n",
    "    prediction = model_pipeline.predict(input_data)\n",
    "\n",
    "    predicted_class = 'e' if prediction[0] == 0 else 'p'\n",
    "    return predicted_class\n",
    "\n",
    "\n"
   ]
  },
  {
   "cell_type": "code",
   "execution_count": null,
   "metadata": {},
   "outputs": [
    {
     "ename": "ValueError",
     "evalue": "could not convert string to float: '.l.'",
     "output_type": "error",
     "traceback": [
      "\u001b[1;31m---------------------------------------------------------------------------\u001b[0m",
      "\u001b[1;31mValueError\u001b[0m                                Traceback (most recent call last)",
      "Cell \u001b[1;32mIn[98], line 1\u001b[0m\n\u001b[1;32m----> 1\u001b[0m predicted_class \u001b[38;5;241m=\u001b[39m \u001b[43mpredict_mushroom_class_with_input\u001b[49m\u001b[43m(\u001b[49m\u001b[43mmodel_pipeline\u001b[49m\u001b[43m)\u001b[49m\n\u001b[0;32m      2\u001b[0m \u001b[38;5;28mprint\u001b[39m(\u001b[38;5;124mf\u001b[39m\u001b[38;5;124m\"\u001b[39m\u001b[38;5;124mThe predicted class is: \u001b[39m\u001b[38;5;132;01m{\u001b[39;00mpredicted_class\u001b[38;5;132;01m}\u001b[39;00m\u001b[38;5;124m\"\u001b[39m)\n",
      "Cell \u001b[1;32mIn[97], line 13\u001b[0m, in \u001b[0;36mpredict_mushroom_class_with_input\u001b[1;34m(model_pipeline)\u001b[0m\n\u001b[0;32m      3\u001b[0m \u001b[38;5;28;01mdef\u001b[39;00m \u001b[38;5;21mpredict_mushroom_class_with_input\u001b[39m(model_pipeline):\n\u001b[0;32m      4\u001b[0m     manual_input \u001b[38;5;241m=\u001b[39m {\n\u001b[0;32m      5\u001b[0m         \u001b[38;5;124m'\u001b[39m\u001b[38;5;124mcap-diameter\u001b[39m\u001b[38;5;124m'\u001b[39m: \u001b[38;5;28mfloat\u001b[39m(\u001b[38;5;28minput\u001b[39m(\u001b[38;5;124m\"\u001b[39m\u001b[38;5;124mEnter cap diameter (e.g., 5.0): \u001b[39m\u001b[38;5;124m\"\u001b[39m)),\n\u001b[0;32m      6\u001b[0m         \u001b[38;5;124m'\u001b[39m\u001b[38;5;124mcap-shape\u001b[39m\u001b[38;5;124m'\u001b[39m: \u001b[38;5;28minput\u001b[39m(\u001b[38;5;124m\"\u001b[39m\u001b[38;5;124mEnter cap shape (e.g., x): \u001b[39m\u001b[38;5;124m\"\u001b[39m),\n\u001b[0;32m      7\u001b[0m         \u001b[38;5;124m'\u001b[39m\u001b[38;5;124mcap-surface\u001b[39m\u001b[38;5;124m'\u001b[39m: \u001b[38;5;28minput\u001b[39m(\u001b[38;5;124m\"\u001b[39m\u001b[38;5;124mEnter cap surface (e.g., s): \u001b[39m\u001b[38;5;124m\"\u001b[39m),\n\u001b[0;32m      8\u001b[0m         \u001b[38;5;124m'\u001b[39m\u001b[38;5;124mcap-color\u001b[39m\u001b[38;5;124m'\u001b[39m: \u001b[38;5;28minput\u001b[39m(\u001b[38;5;124m\"\u001b[39m\u001b[38;5;124mEnter cap color (e.g., n): \u001b[39m\u001b[38;5;124m\"\u001b[39m),\n\u001b[0;32m      9\u001b[0m         \u001b[38;5;124m'\u001b[39m\u001b[38;5;124mdoes-bruise-or-bleed\u001b[39m\u001b[38;5;124m'\u001b[39m: \u001b[38;5;28minput\u001b[39m(\u001b[38;5;124m\"\u001b[39m\u001b[38;5;124mDoes it bruise or bleed? (t/f): \u001b[39m\u001b[38;5;124m\"\u001b[39m),\n\u001b[0;32m     10\u001b[0m         \u001b[38;5;124m'\u001b[39m\u001b[38;5;124mgill-attachment\u001b[39m\u001b[38;5;124m'\u001b[39m: \u001b[38;5;28minput\u001b[39m(\u001b[38;5;124m\"\u001b[39m\u001b[38;5;124mEnter gill attachment (e.g., f): \u001b[39m\u001b[38;5;124m\"\u001b[39m),\n\u001b[0;32m     11\u001b[0m         \u001b[38;5;124m'\u001b[39m\u001b[38;5;124mgill-spacing\u001b[39m\u001b[38;5;124m'\u001b[39m: \u001b[38;5;28minput\u001b[39m(\u001b[38;5;124m\"\u001b[39m\u001b[38;5;124mEnter gill spacing (e.g., c): \u001b[39m\u001b[38;5;124m\"\u001b[39m),\n\u001b[0;32m     12\u001b[0m         \u001b[38;5;124m'\u001b[39m\u001b[38;5;124mgill-color\u001b[39m\u001b[38;5;124m'\u001b[39m: \u001b[38;5;28minput\u001b[39m(\u001b[38;5;124m\"\u001b[39m\u001b[38;5;124mEnter gill color (e.g., k): \u001b[39m\u001b[38;5;124m\"\u001b[39m),\n\u001b[1;32m---> 13\u001b[0m         \u001b[38;5;124m'\u001b[39m\u001b[38;5;124mstem-height\u001b[39m\u001b[38;5;124m'\u001b[39m: \u001b[38;5;28;43mfloat\u001b[39;49m\u001b[43m(\u001b[49m\u001b[38;5;28;43minput\u001b[39;49m\u001b[43m(\u001b[49m\u001b[38;5;124;43m\"\u001b[39;49m\u001b[38;5;124;43mEnter stem height (e.g., 6.0): \u001b[39;49m\u001b[38;5;124;43m\"\u001b[39;49m\u001b[43m)\u001b[49m\u001b[43m)\u001b[49m,\n\u001b[0;32m     14\u001b[0m         \u001b[38;5;124m'\u001b[39m\u001b[38;5;124mstem-width\u001b[39m\u001b[38;5;124m'\u001b[39m: \u001b[38;5;28mfloat\u001b[39m(\u001b[38;5;28minput\u001b[39m(\u001b[38;5;124m\"\u001b[39m\u001b[38;5;124mEnter stem width (e.g., 1.0): \u001b[39m\u001b[38;5;124m\"\u001b[39m)),\n\u001b[0;32m     15\u001b[0m         \u001b[38;5;124m'\u001b[39m\u001b[38;5;124mstem-color\u001b[39m\u001b[38;5;124m'\u001b[39m: \u001b[38;5;28minput\u001b[39m(\u001b[38;5;124m\"\u001b[39m\u001b[38;5;124mEnter stem color (e.g., e): \u001b[39m\u001b[38;5;124m\"\u001b[39m),\n\u001b[0;32m     16\u001b[0m         \u001b[38;5;124m'\u001b[39m\u001b[38;5;124mhas-ring\u001b[39m\u001b[38;5;124m'\u001b[39m: \u001b[38;5;28minput\u001b[39m(\u001b[38;5;124m\"\u001b[39m\u001b[38;5;124mDoes it have a ring? (t/f): \u001b[39m\u001b[38;5;124m\"\u001b[39m),\n\u001b[0;32m     17\u001b[0m         \u001b[38;5;124m'\u001b[39m\u001b[38;5;124mring-type\u001b[39m\u001b[38;5;124m'\u001b[39m: \u001b[38;5;28minput\u001b[39m(\u001b[38;5;124m\"\u001b[39m\u001b[38;5;124mEnter ring type (e.g., p): \u001b[39m\u001b[38;5;124m\"\u001b[39m),\n\u001b[0;32m     18\u001b[0m         \u001b[38;5;124m'\u001b[39m\u001b[38;5;124mhabitat\u001b[39m\u001b[38;5;124m'\u001b[39m: \u001b[38;5;28minput\u001b[39m(\u001b[38;5;124m\"\u001b[39m\u001b[38;5;124mEnter habitat (e.g., d): \u001b[39m\u001b[38;5;124m\"\u001b[39m),\n\u001b[0;32m     19\u001b[0m         \u001b[38;5;124m'\u001b[39m\u001b[38;5;124mseason\u001b[39m\u001b[38;5;124m'\u001b[39m: \u001b[38;5;28minput\u001b[39m(\u001b[38;5;124m\"\u001b[39m\u001b[38;5;124mEnter season (e.g., s): \u001b[39m\u001b[38;5;124m\"\u001b[39m)\n\u001b[0;32m     20\u001b[0m     }\n\u001b[0;32m     22\u001b[0m     input_data \u001b[38;5;241m=\u001b[39m pd\u001b[38;5;241m.\u001b[39mDataFrame([manual_input])\n\u001b[0;32m     24\u001b[0m     prediction \u001b[38;5;241m=\u001b[39m model_pipeline\u001b[38;5;241m.\u001b[39mpredict(input_data)\n",
      "\u001b[1;31mValueError\u001b[0m: could not convert string to float: '.l.'"
     ]
    }
   ],
   "source": [
    "predicted_class = predict_mushroom_class_with_input(model_pipeline)\n",
    "print(f\"The predicted class is: {predicted_class}\")"
   ]
  },
  {
   "cell_type": "code",
   "execution_count": null,
   "metadata": {},
   "outputs": [],
   "source": []
  }
 ],
 "metadata": {
  "kernelspec": {
   "display_name": "Python 3",
   "language": "python",
   "name": "python3"
  },
  "language_info": {
   "codemirror_mode": {
    "name": "ipython",
    "version": 3
   },
   "file_extension": ".py",
   "mimetype": "text/x-python",
   "name": "python",
   "nbconvert_exporter": "python",
   "pygments_lexer": "ipython3",
   "version": "3.12.4"
  }
 },
 "nbformat": 4,
 "nbformat_minor": 2
}
